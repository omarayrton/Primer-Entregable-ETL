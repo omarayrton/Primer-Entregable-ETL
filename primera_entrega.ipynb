{
 "cells": [
  {
   "cell_type": "code",
   "execution_count": 2,
   "metadata": {},
   "outputs": [],
   "source": [
    "import polars as pl\n",
    "import xlsx2csv as xl\n",
    "from polars import Config\n",
    "### con xlsx2csv podemos usar todas las propiedades de read_csv"
   ]
  },
  {
   "cell_type": "code",
   "execution_count": 3,
   "metadata": {},
   "outputs": [
    {
     "data": {
      "text/plain": [
       "polars.config.Config"
      ]
     },
     "execution_count": 3,
     "metadata": {},
     "output_type": "execute_result"
    }
   ],
   "source": [
    "## configurar el largo de las cadenas\n",
    "Config.set_fmt_str_lengths(150)"
   ]
  },
  {
   "cell_type": "markdown",
   "metadata": {},
   "source": [
    "##### Voy a leer el archivo historico del pd"
   ]
  },
  {
   "cell_type": "code",
   "execution_count": 4,
   "metadata": {},
   "outputs": [
    {
     "data": {
      "text/html": [
       "<div><style>\n",
       ".dataframe > thead > tr,\n",
       ".dataframe > tbody > tr {\n",
       "  text-align: right;\n",
       "  white-space: pre-wrap;\n",
       "}\n",
       "</style>\n",
       "<small>shape: (10, 7)</small><table border=\"1\" class=\"dataframe\"><thead><tr><th>TicketID</th><th>Ubicacion</th><th>Service Desk</th><th>Estado</th><th>Fecha Creacion</th><th>Fecha Termino</th><th>Fecha Cierre</th></tr><tr><td>str</td><td>str</td><td>str</td><td>str</td><td>str</td><td>str</td><td>str</td></tr></thead><tbody><tr><td>&quot;WO0000004122687&quot;</td><td>&quot;AREQUIPA - 215000&quot;</td><td>&quot;Zona Norte&quot;</td><td>&quot;Cerrado&quot;</td><td>&quot;2022-06-01&quot;</td><td>&quot;2022-06-14&quot;</td><td>&quot;2022-06-14&quot;</td></tr><tr><td>&quot;WO0000004122649&quot;</td><td>&quot;METRO AV. WIESSE - 191106&quot;</td><td>&quot;Zona Centro&quot;</td><td>&quot;Cerrado&quot;</td><td>&quot;2022-06-01&quot;</td><td>&quot;2022-06-17&quot;</td><td>&quot;2022-06-17&quot;</td></tr><tr><td>&quot;WO0000004122502&quot;</td><td>&quot;NICOLAS AYLLON - 191027&quot;</td><td>&quot;Zona Centro&quot;</td><td>&quot;Cerrado&quot;</td><td>&quot;2022-06-01&quot;</td><td>&quot;2022-06-08&quot;</td><td>&quot;2022-06-08&quot;</td></tr><tr><td>&quot;WO0000004122513&quot;</td><td>&quot;JAUREGUI - 405005&quot;</td><td>&quot;Zona Norte&quot;</td><td>&quot;Cerrado&quot;</td><td>&quot;2022-06-01&quot;</td><td>&quot;2022-06-18&quot;</td><td>&quot;2022-06-18&quot;</td></tr><tr><td>&quot;WO0000004122741&quot;</td><td>&quot;CANTO GRANDE - 191096&quot;</td><td>&quot;Zona Centro&quot;</td><td>&quot;Cerrado&quot;</td><td>&quot;2022-06-01&quot;</td><td>&quot;2022-06-08&quot;</td><td>&quot;2022-06-08&quot;</td></tr><tr><td>&quot;WO0000004122511&quot;</td><td>&quot;CHIMPU OCLLO - 191113&quot;</td><td>&quot;Zona Centro&quot;</td><td>&quot;Cerrado&quot;</td><td>&quot;2022-06-01&quot;</td><td>&quot;2022-06-03&quot;</td><td>&quot;2022-06-03&quot;</td></tr><tr><td>&quot;WO0000004122522&quot;</td><td>&quot;MINI AGENCIA BCP SALAMANCA - 191090&quot;</td><td>&quot;Zona Centro&quot;</td><td>&quot;Cerrado&quot;</td><td>&quot;2022-06-01&quot;</td><td>&quot;2022-06-07&quot;</td><td>&quot;2022-06-07&quot;</td></tr><tr><td>&quot;WO0000004122302&quot;</td><td>&quot;IMPERIAL - 255001&quot;</td><td>&quot;Zona Norte&quot;</td><td>&quot;Cerrado&quot;</td><td>&quot;2022-06-01&quot;</td><td>&quot;2022-06-10&quot;</td><td>&quot;2022-06-10&quot;</td></tr><tr><td>&quot;WO0000004122360&quot;</td><td>&quot;AREQUIPA - 215000&quot;</td><td>&quot;Zona Norte&quot;</td><td>&quot;Cerrado&quot;</td><td>&quot;2022-06-01&quot;</td><td>&quot;2022-06-13&quot;</td><td>&quot;2022-06-13&quot;</td></tr><tr><td>&quot;WO0000004122688&quot;</td><td>&quot;AREQUIPA - 215000&quot;</td><td>&quot;Zona Norte&quot;</td><td>&quot;Cerrado&quot;</td><td>&quot;2022-06-01&quot;</td><td>&quot;2022-06-17&quot;</td><td>&quot;2022-06-17&quot;</td></tr></tbody></table></div>"
      ],
      "text/plain": [
       "shape: (10, 7)\n",
       "┌──────────────┬──────────────┬──────────────┬─────────┬──────────────┬──────────────┬─────────────┐\n",
       "│ TicketID     ┆ Ubicacion    ┆ Service Desk ┆ Estado  ┆ Fecha        ┆ Fecha        ┆ Fecha       │\n",
       "│ ---          ┆ ---          ┆ ---          ┆ ---     ┆ Creacion     ┆ Termino      ┆ Cierre      │\n",
       "│ str          ┆ str          ┆ str          ┆ str     ┆ ---          ┆ ---          ┆ ---         │\n",
       "│              ┆              ┆              ┆         ┆ str          ┆ str          ┆ str         │\n",
       "╞══════════════╪══════════════╪══════════════╪═════════╪══════════════╪══════════════╪═════════════╡\n",
       "│ WO0000004122 ┆ AREQUIPA -   ┆ Zona Norte   ┆ Cerrado ┆ 2022-06-01   ┆ 2022-06-14   ┆ 2022-06-14  │\n",
       "│ 687          ┆ 215000       ┆              ┆         ┆              ┆              ┆             │\n",
       "│ WO0000004122 ┆ METRO AV.    ┆ Zona Centro  ┆ Cerrado ┆ 2022-06-01   ┆ 2022-06-17   ┆ 2022-06-17  │\n",
       "│ 649          ┆ WIESSE -     ┆              ┆         ┆              ┆              ┆             │\n",
       "│              ┆ 191106       ┆              ┆         ┆              ┆              ┆             │\n",
       "│ WO0000004122 ┆ NICOLAS      ┆ Zona Centro  ┆ Cerrado ┆ 2022-06-01   ┆ 2022-06-08   ┆ 2022-06-08  │\n",
       "│ 502          ┆ AYLLON -     ┆              ┆         ┆              ┆              ┆             │\n",
       "│              ┆ 191027       ┆              ┆         ┆              ┆              ┆             │\n",
       "│ WO0000004122 ┆ JAUREGUI -   ┆ Zona Norte   ┆ Cerrado ┆ 2022-06-01   ┆ 2022-06-18   ┆ 2022-06-18  │\n",
       "│ 513          ┆ 405005       ┆              ┆         ┆              ┆              ┆             │\n",
       "│ WO0000004122 ┆ CANTO GRANDE ┆ Zona Centro  ┆ Cerrado ┆ 2022-06-01   ┆ 2022-06-08   ┆ 2022-06-08  │\n",
       "│ 741          ┆ - 191096     ┆              ┆         ┆              ┆              ┆             │\n",
       "│ WO0000004122 ┆ CHIMPU OCLLO ┆ Zona Centro  ┆ Cerrado ┆ 2022-06-01   ┆ 2022-06-03   ┆ 2022-06-03  │\n",
       "│ 511          ┆ - 191113     ┆              ┆         ┆              ┆              ┆             │\n",
       "│ WO0000004122 ┆ MINI AGENCIA ┆ Zona Centro  ┆ Cerrado ┆ 2022-06-01   ┆ 2022-06-07   ┆ 2022-06-07  │\n",
       "│ 522          ┆ BCP          ┆              ┆         ┆              ┆              ┆             │\n",
       "│              ┆ SALAMANCA -  ┆              ┆         ┆              ┆              ┆             │\n",
       "│              ┆ 191090       ┆              ┆         ┆              ┆              ┆             │\n",
       "│ WO0000004122 ┆ IMPERIAL -   ┆ Zona Norte   ┆ Cerrado ┆ 2022-06-01   ┆ 2022-06-10   ┆ 2022-06-10  │\n",
       "│ 302          ┆ 255001       ┆              ┆         ┆              ┆              ┆             │\n",
       "│ WO0000004122 ┆ AREQUIPA -   ┆ Zona Norte   ┆ Cerrado ┆ 2022-06-01   ┆ 2022-06-13   ┆ 2022-06-13  │\n",
       "│ 360          ┆ 215000       ┆              ┆         ┆              ┆              ┆             │\n",
       "│ WO0000004122 ┆ AREQUIPA -   ┆ Zona Norte   ┆ Cerrado ┆ 2022-06-01   ┆ 2022-06-17   ┆ 2022-06-17  │\n",
       "│ 688          ┆ 215000       ┆              ┆         ┆              ┆              ┆             │\n",
       "└──────────────┴──────────────┴──────────────┴─────────┴──────────────┴──────────────┴─────────────┘"
      ]
     },
     "execution_count": 4,
     "metadata": {},
     "output_type": "execute_result"
    }
   ],
   "source": [
    "data_tickets_hist = pl.read_csv('./Materiales/Tickets/Tickets Historico.txt',\n",
    "                                separator=\";\",\n",
    "                                columns= [\"Numero Ticket\",\"Ubicacion\",\"Service Desk\",\n",
    "                                          \"Estado\",\"Fecha Creacion\",\"Fecha Termino\",\n",
    "                                          \"Fecha Cierre\"]).rename({\"Numero Ticket\": \"TicketID\"})\n",
    "data_tickets_hist.head(10)"
   ]
  },
  {
   "cell_type": "code",
   "execution_count": 5,
   "metadata": {},
   "outputs": [],
   "source": [
    "## cambiando el tipo de dato de las columnas de fecha\n",
    "data_tickets_hist=data_tickets_hist.select(\n",
    "    \"TicketID\",\"Ubicacion\",\"Service Desk\",\n",
    "                                          \"Estado\",\n",
    "                                          pl.col(\"Fecha Creacion\").cast(pl.Date),\n",
    "                                          pl.col(\"Fecha Termino\").cast(pl.Date),\n",
    "                                          pl.col(\"Fecha Cierre\").cast(pl.Date)\n",
    "   \n",
    ")"
   ]
  },
  {
   "cell_type": "code",
   "execution_count": 6,
   "metadata": {},
   "outputs": [
    {
     "data": {
      "text/html": [
       "<div><style>\n",
       ".dataframe > thead > tr,\n",
       ".dataframe > tbody > tr {\n",
       "  text-align: right;\n",
       "  white-space: pre-wrap;\n",
       "}\n",
       "</style>\n",
       "<small>shape: (9, 8)</small><table border=\"1\" class=\"dataframe\"><thead><tr><th>statistic</th><th>TicketID</th><th>Ubicacion</th><th>Service Desk</th><th>Estado</th><th>Fecha Creacion</th><th>Fecha Termino</th><th>Fecha Cierre</th></tr><tr><td>str</td><td>str</td><td>str</td><td>str</td><td>str</td><td>str</td><td>str</td><td>str</td></tr></thead><tbody><tr><td>&quot;count&quot;</td><td>&quot;9206&quot;</td><td>&quot;9206&quot;</td><td>&quot;9206&quot;</td><td>&quot;9206&quot;</td><td>&quot;9206&quot;</td><td>&quot;8868&quot;</td><td>&quot;7087&quot;</td></tr><tr><td>&quot;null_count&quot;</td><td>&quot;0&quot;</td><td>&quot;0&quot;</td><td>&quot;0&quot;</td><td>&quot;0&quot;</td><td>&quot;0&quot;</td><td>&quot;338&quot;</td><td>&quot;2119&quot;</td></tr><tr><td>&quot;mean&quot;</td><td>null</td><td>null</td><td>null</td><td>null</td><td>&quot;2022-09-15&quot;</td><td>&quot;2022-09-20&quot;</td><td>&quot;2022-09-23&quot;</td></tr><tr><td>&quot;std&quot;</td><td>null</td><td>null</td><td>null</td><td>null</td><td>null</td><td>null</td><td>null</td></tr><tr><td>&quot;min&quot;</td><td>&quot;OT0000004849379&quot;</td><td>&quot;ABANCAY - 200000&quot;</td><td>&quot;Zona Centro&quot;</td><td>&quot;Cancelado&quot;</td><td>&quot;2022-06-01&quot;</td><td>&quot;2022-06-03&quot;</td><td>&quot;2022-06-03&quot;</td></tr><tr><td>&quot;25%&quot;</td><td>null</td><td>null</td><td>null</td><td>null</td><td>&quot;2022-07-24&quot;</td><td>&quot;2022-07-30&quot;</td><td>&quot;2022-08-01&quot;</td></tr><tr><td>&quot;50%&quot;</td><td>null</td><td>null</td><td>null</td><td>null</td><td>&quot;2022-09-15&quot;</td><td>&quot;2022-09-17&quot;</td><td>&quot;2022-09-18&quot;</td></tr><tr><td>&quot;75%&quot;</td><td>null</td><td>null</td><td>null</td><td>null</td><td>&quot;2022-11-09&quot;</td><td>&quot;2022-11-13&quot;</td><td>&quot;2022-11-25&quot;</td></tr><tr><td>&quot;max&quot;</td><td>&quot;WO0000004849732&quot;</td><td>&quot;ZARATE - 191097&quot;</td><td>&quot;Zona Sur&quot;</td><td>&quot;Terminado&quot;</td><td>&quot;2022-12-31&quot;</td><td>&quot;2023-02-27&quot;</td><td>&quot;2023-02-28&quot;</td></tr></tbody></table></div>"
      ],
      "text/plain": [
       "shape: (9, 8)\n",
       "┌────────────┬────────────┬────────────┬───────────┬───────────┬───────────┬───────────┬───────────┐\n",
       "│ statistic  ┆ TicketID   ┆ Ubicacion  ┆ Service   ┆ Estado    ┆ Fecha     ┆ Fecha     ┆ Fecha     │\n",
       "│ ---        ┆ ---        ┆ ---        ┆ Desk      ┆ ---       ┆ Creacion  ┆ Termino   ┆ Cierre    │\n",
       "│ str        ┆ str        ┆ str        ┆ ---       ┆ str       ┆ ---       ┆ ---       ┆ ---       │\n",
       "│            ┆            ┆            ┆ str       ┆           ┆ str       ┆ str       ┆ str       │\n",
       "╞════════════╪════════════╪════════════╪═══════════╪═══════════╪═══════════╪═══════════╪═══════════╡\n",
       "│ count      ┆ 9206       ┆ 9206       ┆ 9206      ┆ 9206      ┆ 9206      ┆ 8868      ┆ 7087      │\n",
       "│ null_count ┆ 0          ┆ 0          ┆ 0         ┆ 0         ┆ 0         ┆ 338       ┆ 2119      │\n",
       "│ mean       ┆ null       ┆ null       ┆ null      ┆ null      ┆ 2022-09-1 ┆ 2022-09-2 ┆ 2022-09-2 │\n",
       "│            ┆            ┆            ┆           ┆           ┆ 5         ┆ 0         ┆ 3         │\n",
       "│ std        ┆ null       ┆ null       ┆ null      ┆ null      ┆ null      ┆ null      ┆ null      │\n",
       "│ min        ┆ OT00000048 ┆ ABANCAY -  ┆ Zona      ┆ Cancelado ┆ 2022-06-0 ┆ 2022-06-0 ┆ 2022-06-0 │\n",
       "│            ┆ 49379      ┆ 200000     ┆ Centro    ┆           ┆ 1         ┆ 3         ┆ 3         │\n",
       "│ 25%        ┆ null       ┆ null       ┆ null      ┆ null      ┆ 2022-07-2 ┆ 2022-07-3 ┆ 2022-08-0 │\n",
       "│            ┆            ┆            ┆           ┆           ┆ 4         ┆ 0         ┆ 1         │\n",
       "│ 50%        ┆ null       ┆ null       ┆ null      ┆ null      ┆ 2022-09-1 ┆ 2022-09-1 ┆ 2022-09-1 │\n",
       "│            ┆            ┆            ┆           ┆           ┆ 5         ┆ 7         ┆ 8         │\n",
       "│ 75%        ┆ null       ┆ null       ┆ null      ┆ null      ┆ 2022-11-0 ┆ 2022-11-1 ┆ 2022-11-2 │\n",
       "│            ┆            ┆            ┆           ┆           ┆ 9         ┆ 3         ┆ 5         │\n",
       "│ max        ┆ WO00000048 ┆ ZARATE -   ┆ Zona Sur  ┆ Terminado ┆ 2022-12-3 ┆ 2023-02-2 ┆ 2023-02-2 │\n",
       "│            ┆ 49732      ┆ 191097     ┆           ┆           ┆ 1         ┆ 7         ┆ 8         │\n",
       "└────────────┴────────────┴────────────┴───────────┴───────────┴───────────┴───────────┴───────────┘"
      ]
     },
     "execution_count": 6,
     "metadata": {},
     "output_type": "execute_result"
    }
   ],
   "source": [
    "data_tickets_hist.describe()"
   ]
  },
  {
   "cell_type": "code",
   "execution_count": 7,
   "metadata": {},
   "outputs": [
    {
     "data": {
      "text/plain": [
       "<bound method DataFrame.describe of shape: (13_050, 7)\n",
       "┌──────────────┬──────────────┬──────────────┬──────────┬──────────────┬─────────────┬─────────────┐\n",
       "│ TicketID     ┆ Ubicacion    ┆ Service Desk ┆ Estado   ┆ Fecha        ┆ Fecha       ┆ Fecha       │\n",
       "│ ---          ┆ ---          ┆ ---          ┆ ---      ┆ Creacion     ┆ Termino     ┆ Cierre      │\n",
       "│ str          ┆ str          ┆ str          ┆ str      ┆ ---          ┆ ---         ┆ ---         │\n",
       "│              ┆              ┆              ┆          ┆ str          ┆ str         ┆ str         │\n",
       "╞══════════════╪══════════════╪══════════════╪══════════╪══════════════╪═════════════╪═════════════╡\n",
       "│ WO0000004853 ┆ TUPAC AMARU  ┆ Zona Centro  ┆ Cerrado  ┆ 2023-01-02   ┆ 10/01/2023  ┆ 13/01/2023  │\n",
       "│ 311          ┆ - 191038     ┆              ┆          ┆              ┆             ┆             │\n",
       "│ WO0000004852 ┆ SAN JUAN DE  ┆ Zona Centro  ┆ Cerrado  ┆ 2023-01-02   ┆ 2/01/2023   ┆ 5/01/2023   │\n",
       "│ 942          ┆ LURIGANCHO - ┆              ┆          ┆              ┆             ┆             │\n",
       "│              ┆ 191017       ┆              ┆          ┆              ┆             ┆             │\n",
       "│ WO0000004852 ┆ MARIANO      ┆ Zona Norte   ┆ Cerrado  ┆ 2023-01-02   ┆ 6/01/2023   ┆ 9/01/2023   │\n",
       "│ 621          ┆ MELGAR -     ┆              ┆          ┆              ┆             ┆             │\n",
       "│              ┆ 215014       ┆              ┆          ┆              ┆             ┆             │\n",
       "│ SA0000004853 ┆ ANDAHUAYLAS  ┆ Zona Norte   ┆ Cerrado  ┆ 2023-01-02   ┆ 7/01/2023   ┆ 10/01/2023  │\n",
       "│ 328          ┆ - 205000     ┆              ┆          ┆              ┆             ┆             │\n",
       "│ SA0000004853 ┆ COLLIQUE -   ┆ Zona Centro  ┆ Cerrado  ┆ 2023-01-02   ┆ 4/01/2023   ┆ 7/01/2023   │\n",
       "│ 160          ┆ 191065       ┆              ┆          ┆              ┆             ┆             │\n",
       "│ …            ┆ …            ┆ …            ┆ …        ┆ …            ┆ …           ┆ …           │\n",
       "│ WO0000005737 ┆ CANTO GRANDE ┆ Zona Centro  ┆ En curso ┆ 2023-10-29   ┆ null        ┆ null        │\n",
       "│ 139          ┆ - 191096     ┆              ┆          ┆              ┆             ┆             │\n",
       "│ WO0000005736 ┆ NARANJAL -   ┆ Zona Centro  ┆ En curso ┆ 2023-10-29   ┆ null        ┆ null        │\n",
       "│ 853          ┆ 191141       ┆              ┆          ┆              ┆             ┆             │\n",
       "│ WO0000005736 ┆ NARANJAL -   ┆ Zona Centro  ┆ En curso ┆ 2023-10-29   ┆ null        ┆ null        │\n",
       "│ 847          ┆ 191141       ┆              ┆          ┆              ┆             ┆             │\n",
       "│ WO0000005736 ┆ NARANJAL -   ┆ Zona Centro  ┆ En curso ┆ 2023-10-29   ┆ null        ┆ null        │\n",
       "│ 845          ┆ 191141       ┆              ┆          ┆              ┆             ┆             │\n",
       "│ WO0000005736 ┆ TARAPACA -   ┆ Zona Centro  ┆ En curso ┆ 2023-10-29   ┆ null        ┆ null        │\n",
       "│ 387          ┆ 191030       ┆              ┆          ┆              ┆             ┆             │\n",
       "└──────────────┴──────────────┴──────────────┴──────────┴──────────────┴─────────────┴─────────────┘>"
      ]
     },
     "execution_count": 7,
     "metadata": {},
     "output_type": "execute_result"
    }
   ],
   "source": [
    "data_tickets_actual = pl.read_csv(\n",
    "    source = \"./Materiales/Tickets/Tickets Actual.csv\",\n",
    "    separator=\"|\",\n",
    "    columns=[\"Numero Ticket\",\"Ubicacion\",\"Service Desk\",\n",
    "             \"Estado\",\"Fecha Creacion\",\"Fecha Termino\",\n",
    "             \"Fecha Cierre\"],\n",
    "             has_header=True\n",
    ").rename({'Numero Ticket': 'TicketID'})\n",
    "\n",
    "data_tickets_actual.describe"
   ]
  },
  {
   "cell_type": "code",
   "execution_count": 8,
   "metadata": {},
   "outputs": [
    {
     "data": {
      "text/html": [
       "<div><style>\n",
       ".dataframe > thead > tr,\n",
       ".dataframe > tbody > tr {\n",
       "  text-align: right;\n",
       "  white-space: pre-wrap;\n",
       "}\n",
       "</style>\n",
       "<small>shape: (20, 7)</small><table border=\"1\" class=\"dataframe\"><thead><tr><th>TicketID</th><th>Ubicacion</th><th>Service Desk</th><th>Estado</th><th>Fecha Creacion</th><th>Fecha Termino</th><th>Fecha Cierre</th></tr><tr><td>str</td><td>str</td><td>str</td><td>str</td><td>date</td><td>date</td><td>date</td></tr></thead><tbody><tr><td>&quot;WO0000004853311&quot;</td><td>&quot;TUPAC AMARU - 191038&quot;</td><td>&quot;Zona Centro&quot;</td><td>&quot;Cerrado&quot;</td><td>2023-01-02</td><td>2023-01-10</td><td>2023-01-13</td></tr><tr><td>&quot;WO0000004852942&quot;</td><td>&quot;SAN JUAN DE LURIGANCHO - 191017&quot;</td><td>&quot;Zona Centro&quot;</td><td>&quot;Cerrado&quot;</td><td>2023-01-02</td><td>2023-01-02</td><td>2023-01-05</td></tr><tr><td>&quot;WO0000004852621&quot;</td><td>&quot;MARIANO MELGAR - 215014&quot;</td><td>&quot;Zona Norte&quot;</td><td>&quot;Cerrado&quot;</td><td>2023-01-02</td><td>2023-01-06</td><td>2023-01-09</td></tr><tr><td>&quot;SA0000004853328&quot;</td><td>&quot;ANDAHUAYLAS - 205000&quot;</td><td>&quot;Zona Norte&quot;</td><td>&quot;Cerrado&quot;</td><td>2023-01-02</td><td>2023-01-07</td><td>2023-01-10</td></tr><tr><td>&quot;SA0000004853160&quot;</td><td>&quot;COLLIQUE - 191065&quot;</td><td>&quot;Zona Centro&quot;</td><td>&quot;Cerrado&quot;</td><td>2023-01-02</td><td>2023-01-04</td><td>2023-01-07</td></tr><tr><td>&quot;SA0000004853158&quot;</td><td>&quot;COLLIQUE - 191065&quot;</td><td>&quot;Zona Centro&quot;</td><td>&quot;Cerrado&quot;</td><td>2023-01-02</td><td>2023-01-06</td><td>2023-01-09</td></tr><tr><td>&quot;SA0000004853157&quot;</td><td>&quot;COLLIQUE - 191065&quot;</td><td>&quot;Zona Centro&quot;</td><td>&quot;Cerrado&quot;</td><td>2023-01-02</td><td>2023-01-04</td><td>2023-01-07</td></tr><tr><td>&quot;SA0000004853156&quot;</td><td>&quot;COLLIQUE - 191065&quot;</td><td>&quot;Zona Centro&quot;</td><td>&quot;Cerrado&quot;</td><td>2023-01-02</td><td>2023-01-15</td><td>2023-01-18</td></tr><tr><td>&quot;WO0000004853328&quot;</td><td>&quot;ANDAHUAYLAS - 205000&quot;</td><td>&quot;Zona Norte&quot;</td><td>&quot;Cerrado&quot;</td><td>2023-01-02</td><td>2023-01-07</td><td>2023-01-10</td></tr><tr><td>&quot;WO0000004853160&quot;</td><td>&quot;COLLIQUE - 191065&quot;</td><td>&quot;Zona Centro&quot;</td><td>&quot;Cerrado&quot;</td><td>2023-01-02</td><td>2023-01-04</td><td>2023-01-07</td></tr><tr><td>&quot;WO0000004853158&quot;</td><td>&quot;COLLIQUE - 191065&quot;</td><td>&quot;Zona Centro&quot;</td><td>&quot;Cerrado&quot;</td><td>2023-01-02</td><td>2023-01-06</td><td>2023-01-09</td></tr><tr><td>&quot;WO0000004853157&quot;</td><td>&quot;COLLIQUE - 191065&quot;</td><td>&quot;Zona Centro&quot;</td><td>&quot;Cerrado&quot;</td><td>2023-01-02</td><td>2023-01-04</td><td>2023-01-07</td></tr><tr><td>&quot;WO0000004853156&quot;</td><td>&quot;COLLIQUE - 191065&quot;</td><td>&quot;Zona Centro&quot;</td><td>&quot;Cerrado&quot;</td><td>2023-01-02</td><td>2023-01-15</td><td>2023-01-18</td></tr><tr><td>&quot;WO0000004854678&quot;</td><td>&quot;MEGA PLAZA - 191010&quot;</td><td>&quot;Zona Centro&quot;</td><td>&quot;Cerrado&quot;</td><td>2023-01-02</td><td>2023-01-14</td><td>2023-01-17</td></tr><tr><td>&quot;WO0000004853613&quot;</td><td>&quot;PROCERES - 191120&quot;</td><td>&quot;Zona Centro&quot;</td><td>&quot;Cerrado&quot;</td><td>2023-01-02</td><td>2023-01-07</td><td>2023-01-10</td></tr><tr><td>&quot;WO0000004853171&quot;</td><td>&quot;PLAZA UNION - 191062&quot;</td><td>&quot;Zona Centro&quot;</td><td>&quot;Cerrado&quot;</td><td>2023-01-02</td><td>2023-01-06</td><td>2023-01-09</td></tr><tr><td>&quot;WO0000004853139&quot;</td><td>&quot;METRO AV. WIESSE - 191106&quot;</td><td>&quot;Zona Centro&quot;</td><td>&quot;Cerrado&quot;</td><td>2023-01-02</td><td>2023-01-11</td><td>2023-01-14</td></tr><tr><td>&quot;WO0000004852175&quot;</td><td>&quot;LAS LOMAS - 191055&quot;</td><td>&quot;Zona Centro&quot;</td><td>&quot;Cerrado&quot;</td><td>2023-01-02</td><td>2023-01-11</td><td>2023-01-14</td></tr><tr><td>&quot;WO0000004851712&quot;</td><td>&quot;IZAGUIRRE - 191154&quot;</td><td>&quot;Zona Centro&quot;</td><td>&quot;Cerrado&quot;</td><td>2023-01-02</td><td>2023-01-04</td><td>2023-01-07</td></tr><tr><td>&quot;WO0000004854930&quot;</td><td>&quot;BELAUNDE - 191018&quot;</td><td>&quot;Zona Centro&quot;</td><td>&quot;Cerrado&quot;</td><td>2023-01-02</td><td>2023-01-13</td><td>2023-01-16</td></tr></tbody></table></div>"
      ],
      "text/plain": [
       "shape: (20, 7)\n",
       "┌──────────────┬──────────────┬──────────────┬─────────┬──────────────┬──────────────┬─────────────┐\n",
       "│ TicketID     ┆ Ubicacion    ┆ Service Desk ┆ Estado  ┆ Fecha        ┆ Fecha        ┆ Fecha       │\n",
       "│ ---          ┆ ---          ┆ ---          ┆ ---     ┆ Creacion     ┆ Termino      ┆ Cierre      │\n",
       "│ str          ┆ str          ┆ str          ┆ str     ┆ ---          ┆ ---          ┆ ---         │\n",
       "│              ┆              ┆              ┆         ┆ date         ┆ date         ┆ date        │\n",
       "╞══════════════╪══════════════╪══════════════╪═════════╪══════════════╪══════════════╪═════════════╡\n",
       "│ WO0000004853 ┆ TUPAC AMARU  ┆ Zona Centro  ┆ Cerrado ┆ 2023-01-02   ┆ 2023-01-10   ┆ 2023-01-13  │\n",
       "│ 311          ┆ - 191038     ┆              ┆         ┆              ┆              ┆             │\n",
       "│ WO0000004852 ┆ SAN JUAN DE  ┆ Zona Centro  ┆ Cerrado ┆ 2023-01-02   ┆ 2023-01-02   ┆ 2023-01-05  │\n",
       "│ 942          ┆ LURIGANCHO - ┆              ┆         ┆              ┆              ┆             │\n",
       "│              ┆ 191017       ┆              ┆         ┆              ┆              ┆             │\n",
       "│ WO0000004852 ┆ MARIANO      ┆ Zona Norte   ┆ Cerrado ┆ 2023-01-02   ┆ 2023-01-06   ┆ 2023-01-09  │\n",
       "│ 621          ┆ MELGAR -     ┆              ┆         ┆              ┆              ┆             │\n",
       "│              ┆ 215014       ┆              ┆         ┆              ┆              ┆             │\n",
       "│ SA0000004853 ┆ ANDAHUAYLAS  ┆ Zona Norte   ┆ Cerrado ┆ 2023-01-02   ┆ 2023-01-07   ┆ 2023-01-10  │\n",
       "│ 328          ┆ - 205000     ┆              ┆         ┆              ┆              ┆             │\n",
       "│ SA0000004853 ┆ COLLIQUE -   ┆ Zona Centro  ┆ Cerrado ┆ 2023-01-02   ┆ 2023-01-04   ┆ 2023-01-07  │\n",
       "│ 160          ┆ 191065       ┆              ┆         ┆              ┆              ┆             │\n",
       "│ …            ┆ …            ┆ …            ┆ …       ┆ …            ┆ …            ┆ …           │\n",
       "│ WO0000004853 ┆ PLAZA UNION  ┆ Zona Centro  ┆ Cerrado ┆ 2023-01-02   ┆ 2023-01-06   ┆ 2023-01-09  │\n",
       "│ 171          ┆ - 191062     ┆              ┆         ┆              ┆              ┆             │\n",
       "│ WO0000004853 ┆ METRO AV.    ┆ Zona Centro  ┆ Cerrado ┆ 2023-01-02   ┆ 2023-01-11   ┆ 2023-01-14  │\n",
       "│ 139          ┆ WIESSE -     ┆              ┆         ┆              ┆              ┆             │\n",
       "│              ┆ 191106       ┆              ┆         ┆              ┆              ┆             │\n",
       "│ WO0000004852 ┆ LAS LOMAS -  ┆ Zona Centro  ┆ Cerrado ┆ 2023-01-02   ┆ 2023-01-11   ┆ 2023-01-14  │\n",
       "│ 175          ┆ 191055       ┆              ┆         ┆              ┆              ┆             │\n",
       "│ WO0000004851 ┆ IZAGUIRRE -  ┆ Zona Centro  ┆ Cerrado ┆ 2023-01-02   ┆ 2023-01-04   ┆ 2023-01-07  │\n",
       "│ 712          ┆ 191154       ┆              ┆         ┆              ┆              ┆             │\n",
       "│ WO0000004854 ┆ BELAUNDE -   ┆ Zona Centro  ┆ Cerrado ┆ 2023-01-02   ┆ 2023-01-13   ┆ 2023-01-16  │\n",
       "│ 930          ┆ 191018       ┆              ┆         ┆              ┆              ┆             │\n",
       "└──────────────┴──────────────┴──────────────┴─────────┴──────────────┴──────────────┴─────────────┘"
      ]
     },
     "execution_count": 8,
     "metadata": {},
     "output_type": "execute_result"
    }
   ],
   "source": [
    "data_tickets_actual = data_tickets_actual.select(\n",
    "    'TicketID',\n",
    "    'Ubicacion',\n",
    "    'Service Desk',\n",
    "    'Estado',\n",
    "    pl.col('Fecha Creacion').cast(pl.Date),\n",
    "    pl.col(\"Fecha Termino\").str.to_date(format=\"%d/%m/%Y\"),\n",
    "    pl.col(\"Fecha Cierre\").str.to_date(format=\"%d/%m/%Y\")\n",
    ")\n",
    "\n",
    "data_tickets_actual.head(20)"
   ]
  },
  {
   "cell_type": "code",
   "execution_count": 9,
   "metadata": {},
   "outputs": [
    {
     "data": {
      "text/plain": [
       "(13022, 7)"
      ]
     },
     "execution_count": 9,
     "metadata": {},
     "output_type": "execute_result"
    }
   ],
   "source": [
    "data_tickets_actual = data_tickets_actual.filter(\n",
    "\n",
    "    pl.col(\"TicketID\").str.starts_with(\"WO\")\n",
    ")\n",
    "data_tickets_actual.shape\n",
    "##data_tickets_actual.head()"
   ]
  },
  {
   "cell_type": "code",
   "execution_count": 14,
   "metadata": {},
   "outputs": [
    {
     "data": {
      "text/html": [
       "<div><style>\n",
       ".dataframe > thead > tr,\n",
       ".dataframe > tbody > tr {\n",
       "  text-align: right;\n",
       "  white-space: pre-wrap;\n",
       "}\n",
       "</style>\n",
       "<small>shape: (5, 7)</small><table border=\"1\" class=\"dataframe\"><thead><tr><th>TicketID</th><th>Ubicacion</th><th>Service Desk</th><th>Estado</th><th>Fecha Creacion</th><th>Fecha Termino</th><th>Fecha Cierre</th></tr><tr><td>str</td><td>str</td><td>str</td><td>str</td><td>date</td><td>date</td><td>date</td></tr></thead><tbody><tr><td>&quot;WO0000004853311&quot;</td><td>&quot;TUPAC AMARU - 191038&quot;</td><td>&quot;Zona Centro&quot;</td><td>&quot;Cerrado&quot;</td><td>2023-01-02</td><td>2023-01-10</td><td>2023-01-13</td></tr><tr><td>&quot;WO0000004852942&quot;</td><td>&quot;SAN JUAN DE LURIGANCHO - 191017&quot;</td><td>&quot;Zona Centro&quot;</td><td>&quot;Cerrado&quot;</td><td>2023-01-02</td><td>2023-01-02</td><td>2023-01-05</td></tr><tr><td>&quot;WO0000004852621&quot;</td><td>&quot;MARIANO MELGAR - 215014&quot;</td><td>&quot;Zona Norte&quot;</td><td>&quot;Cerrado&quot;</td><td>2023-01-02</td><td>2023-01-06</td><td>2023-01-09</td></tr><tr><td>&quot;WO0000004853328&quot;</td><td>&quot;ANDAHUAYLAS - 205000&quot;</td><td>&quot;Zona Norte&quot;</td><td>&quot;Cerrado&quot;</td><td>2023-01-02</td><td>2023-01-07</td><td>2023-01-10</td></tr><tr><td>&quot;WO0000004853160&quot;</td><td>&quot;COLLIQUE - 191065&quot;</td><td>&quot;Zona Centro&quot;</td><td>&quot;Cerrado&quot;</td><td>2023-01-02</td><td>2023-01-04</td><td>2023-01-07</td></tr></tbody></table></div>"
      ],
      "text/plain": [
       "shape: (5, 7)\n",
       "┌──────────────┬──────────────┬──────────────┬─────────┬──────────────┬──────────────┬─────────────┐\n",
       "│ TicketID     ┆ Ubicacion    ┆ Service Desk ┆ Estado  ┆ Fecha        ┆ Fecha        ┆ Fecha       │\n",
       "│ ---          ┆ ---          ┆ ---          ┆ ---     ┆ Creacion     ┆ Termino      ┆ Cierre      │\n",
       "│ str          ┆ str          ┆ str          ┆ str     ┆ ---          ┆ ---          ┆ ---         │\n",
       "│              ┆              ┆              ┆         ┆ date         ┆ date         ┆ date        │\n",
       "╞══════════════╪══════════════╪══════════════╪═════════╪══════════════╪══════════════╪═════════════╡\n",
       "│ WO0000004853 ┆ TUPAC AMARU  ┆ Zona Centro  ┆ Cerrado ┆ 2023-01-02   ┆ 2023-01-10   ┆ 2023-01-13  │\n",
       "│ 311          ┆ - 191038     ┆              ┆         ┆              ┆              ┆             │\n",
       "│ WO0000004852 ┆ SAN JUAN DE  ┆ Zona Centro  ┆ Cerrado ┆ 2023-01-02   ┆ 2023-01-02   ┆ 2023-01-05  │\n",
       "│ 942          ┆ LURIGANCHO - ┆              ┆         ┆              ┆              ┆             │\n",
       "│              ┆ 191017       ┆              ┆         ┆              ┆              ┆             │\n",
       "│ WO0000004852 ┆ MARIANO      ┆ Zona Norte   ┆ Cerrado ┆ 2023-01-02   ┆ 2023-01-06   ┆ 2023-01-09  │\n",
       "│ 621          ┆ MELGAR -     ┆              ┆         ┆              ┆              ┆             │\n",
       "│              ┆ 215014       ┆              ┆         ┆              ┆              ┆             │\n",
       "│ WO0000004853 ┆ ANDAHUAYLAS  ┆ Zona Norte   ┆ Cerrado ┆ 2023-01-02   ┆ 2023-01-07   ┆ 2023-01-10  │\n",
       "│ 328          ┆ - 205000     ┆              ┆         ┆              ┆              ┆             │\n",
       "│ WO0000004853 ┆ COLLIQUE -   ┆ Zona Centro  ┆ Cerrado ┆ 2023-01-02   ┆ 2023-01-04   ┆ 2023-01-07  │\n",
       "│ 160          ┆ 191065       ┆              ┆         ┆              ┆              ┆             │\n",
       "└──────────────┴──────────────┴──────────────┴─────────┴──────────────┴──────────────┴─────────────┘"
      ]
     },
     "execution_count": 14,
     "metadata": {},
     "output_type": "execute_result"
    }
   ],
   "source": [
    "data_tickets_actual.head()"
   ]
  },
  {
   "cell_type": "code",
   "execution_count": 47,
   "metadata": {},
   "outputs": [
    {
     "data": {
      "text/html": [
       "<div><style>\n",
       ".dataframe > thead > tr,\n",
       ".dataframe > tbody > tr {\n",
       "  text-align: right;\n",
       "  white-space: pre-wrap;\n",
       "}\n",
       "</style>\n",
       "<small>shape: (5, 7)</small><table border=\"1\" class=\"dataframe\"><thead><tr><th>TicketID</th><th>Ubicacion</th><th>Service Desk</th><th>Estado</th><th>Fecha Creacion</th><th>Fecha Termino</th><th>Fecha Cierre</th></tr><tr><td>str</td><td>str</td><td>str</td><td>str</td><td>str</td><td>str</td><td>str</td></tr></thead><tbody><tr><td>&quot;WO0000004122687&quot;</td><td>&quot;AREQUIPA - 215000&quot;</td><td>&quot;Zona Norte&quot;</td><td>&quot;Cerrado&quot;</td><td>&quot;2022-06-01&quot;</td><td>&quot;2022-06-14&quot;</td><td>&quot;2022-06-14&quot;</td></tr><tr><td>&quot;WO0000004122649&quot;</td><td>&quot;METRO AV. WIESSE - 191106&quot;</td><td>&quot;Zona Centro&quot;</td><td>&quot;Cerrado&quot;</td><td>&quot;2022-06-01&quot;</td><td>&quot;2022-06-17&quot;</td><td>&quot;2022-06-17&quot;</td></tr><tr><td>&quot;WO0000004122502&quot;</td><td>&quot;NICOLAS AYLLON - 191027&quot;</td><td>&quot;Zona Centro&quot;</td><td>&quot;Cerrado&quot;</td><td>&quot;2022-06-01&quot;</td><td>&quot;2022-06-08&quot;</td><td>&quot;2022-06-08&quot;</td></tr><tr><td>&quot;WO0000004122513&quot;</td><td>&quot;JAUREGUI - 405005&quot;</td><td>&quot;Zona Norte&quot;</td><td>&quot;Cerrado&quot;</td><td>&quot;2022-06-01&quot;</td><td>&quot;2022-06-18&quot;</td><td>&quot;2022-06-18&quot;</td></tr><tr><td>&quot;WO0000004122741&quot;</td><td>&quot;CANTO GRANDE - 191096&quot;</td><td>&quot;Zona Centro&quot;</td><td>&quot;Cerrado&quot;</td><td>&quot;2022-06-01&quot;</td><td>&quot;2022-06-08&quot;</td><td>&quot;2022-06-08&quot;</td></tr></tbody></table></div>"
      ],
      "text/plain": [
       "shape: (5, 7)\n",
       "┌──────────────┬──────────────┬──────────────┬─────────┬──────────────┬──────────────┬─────────────┐\n",
       "│ TicketID     ┆ Ubicacion    ┆ Service Desk ┆ Estado  ┆ Fecha        ┆ Fecha        ┆ Fecha       │\n",
       "│ ---          ┆ ---          ┆ ---          ┆ ---     ┆ Creacion     ┆ Termino      ┆ Cierre      │\n",
       "│ str          ┆ str          ┆ str          ┆ str     ┆ ---          ┆ ---          ┆ ---         │\n",
       "│              ┆              ┆              ┆         ┆ str          ┆ str          ┆ str         │\n",
       "╞══════════════╪══════════════╪══════════════╪═════════╪══════════════╪══════════════╪═════════════╡\n",
       "│ WO0000004122 ┆ AREQUIPA -   ┆ Zona Norte   ┆ Cerrado ┆ 2022-06-01   ┆ 2022-06-14   ┆ 2022-06-14  │\n",
       "│ 687          ┆ 215000       ┆              ┆         ┆              ┆              ┆             │\n",
       "│ WO0000004122 ┆ METRO AV.    ┆ Zona Centro  ┆ Cerrado ┆ 2022-06-01   ┆ 2022-06-17   ┆ 2022-06-17  │\n",
       "│ 649          ┆ WIESSE -     ┆              ┆         ┆              ┆              ┆             │\n",
       "│              ┆ 191106       ┆              ┆         ┆              ┆              ┆             │\n",
       "│ WO0000004122 ┆ NICOLAS      ┆ Zona Centro  ┆ Cerrado ┆ 2022-06-01   ┆ 2022-06-08   ┆ 2022-06-08  │\n",
       "│ 502          ┆ AYLLON -     ┆              ┆         ┆              ┆              ┆             │\n",
       "│              ┆ 191027       ┆              ┆         ┆              ┆              ┆             │\n",
       "│ WO0000004122 ┆ JAUREGUI -   ┆ Zona Norte   ┆ Cerrado ┆ 2022-06-01   ┆ 2022-06-18   ┆ 2022-06-18  │\n",
       "│ 513          ┆ 405005       ┆              ┆         ┆              ┆              ┆             │\n",
       "│ WO0000004122 ┆ CANTO GRANDE ┆ Zona Centro  ┆ Cerrado ┆ 2022-06-01   ┆ 2022-06-08   ┆ 2022-06-08  │\n",
       "│ 741          ┆ - 191096     ┆              ┆         ┆              ┆              ┆             │\n",
       "└──────────────┴──────────────┴──────────────┴─────────┴──────────────┴──────────────┴─────────────┘"
      ]
     },
     "execution_count": 47,
     "metadata": {},
     "output_type": "execute_result"
    }
   ],
   "source": [
    "data_tickets_hist.head()"
   ]
  },
  {
   "cell_type": "code",
   "execution_count": 10,
   "metadata": {},
   "outputs": [
    {
     "data": {
      "text/plain": [
       "(22228, 7)"
      ]
     },
     "execution_count": 10,
     "metadata": {},
     "output_type": "execute_result"
    }
   ],
   "source": [
    "## anexamos en uno solo \n",
    "tickets = pl.concat([data_tickets_hist,data_tickets_actual])\n",
    "tickets.columns\n",
    "tickets.shape"
   ]
  },
  {
   "cell_type": "code",
   "execution_count": 10,
   "metadata": {},
   "outputs": [
    {
     "data": {
      "text/plain": [
       "(22228, 7)"
      ]
     },
     "execution_count": 10,
     "metadata": {},
     "output_type": "execute_result"
    }
   ],
   "source": [
    "#### removiendo duplicados\n",
    "tickets.shape"
   ]
  },
  {
   "cell_type": "code",
   "execution_count": 11,
   "metadata": {},
   "outputs": [],
   "source": [
    "tickets = tickets.sort(\n",
    "    by=['TicketID', 'Fecha Creacion']\n",
    ").unique(\n",
    "    subset='TicketID',\n",
    "    keep='last',\n",
    "    maintain_order=True\n",
    ")"
   ]
  },
  {
   "cell_type": "code",
   "execution_count": 17,
   "metadata": {},
   "outputs": [
    {
     "data": {
      "text/html": [
       "<div><style>\n",
       ".dataframe > thead > tr,\n",
       ".dataframe > tbody > tr {\n",
       "  text-align: right;\n",
       "  white-space: pre-wrap;\n",
       "}\n",
       "</style>\n",
       "<small>shape: (5, 7)</small><table border=\"1\" class=\"dataframe\"><thead><tr><th>TicketID</th><th>Ubicacion</th><th>Service Desk</th><th>Estado</th><th>Fecha Creacion</th><th>Fecha Termino</th><th>Fecha Cierre</th></tr><tr><td>str</td><td>str</td><td>str</td><td>str</td><td>date</td><td>date</td><td>date</td></tr></thead><tbody><tr><td>&quot;OT0000004849379&quot;</td><td>&quot;NAYLAMP - 191143&quot;</td><td>&quot;Zona Centro&quot;</td><td>&quot;Cerrado&quot;</td><td>2022-12-31</td><td>2023-01-25</td><td>2023-01-28</td></tr><tr><td>&quot;OT0000004849382&quot;</td><td>&quot;LOS DAMASCOS - 193038&quot;</td><td>&quot;Zona Sur&quot;</td><td>&quot;Cerrado&quot;</td><td>2022-12-31</td><td>2023-01-04</td><td>2023-01-07</td></tr><tr><td>&quot;OT0000004849726&quot;</td><td>&quot;LUREN - 380004&quot;</td><td>&quot;Zona Sur&quot;</td><td>&quot;Cerrado&quot;</td><td>2022-12-31</td><td>2023-01-02</td><td>2023-01-05</td></tr><tr><td>&quot;OT0000004849732&quot;</td><td>&quot;EL PINO - 191087&quot;</td><td>&quot;Zona Centro&quot;</td><td>&quot;Cerrado&quot;</td><td>2022-12-31</td><td>2023-01-06</td><td>2023-01-09</td></tr><tr><td>&quot;SA0000004849307&quot;</td><td>&quot;TUSILAGOS - 191108&quot;</td><td>&quot;Zona Centro&quot;</td><td>&quot;Rechazado&quot;</td><td>2022-12-31</td><td>null</td><td>null</td></tr></tbody></table></div>"
      ],
      "text/plain": [
       "shape: (5, 7)\n",
       "┌──────────────┬──────────────┬──────────────┬───────────┬─────────────┬─────────────┬─────────────┐\n",
       "│ TicketID     ┆ Ubicacion    ┆ Service Desk ┆ Estado    ┆ Fecha       ┆ Fecha       ┆ Fecha       │\n",
       "│ ---          ┆ ---          ┆ ---          ┆ ---       ┆ Creacion    ┆ Termino     ┆ Cierre      │\n",
       "│ str          ┆ str          ┆ str          ┆ str       ┆ ---         ┆ ---         ┆ ---         │\n",
       "│              ┆              ┆              ┆           ┆ date        ┆ date        ┆ date        │\n",
       "╞══════════════╪══════════════╪══════════════╪═══════════╪═════════════╪═════════════╪═════════════╡\n",
       "│ OT0000004849 ┆ NAYLAMP -    ┆ Zona Centro  ┆ Cerrado   ┆ 2022-12-31  ┆ 2023-01-25  ┆ 2023-01-28  │\n",
       "│ 379          ┆ 191143       ┆              ┆           ┆             ┆             ┆             │\n",
       "│ OT0000004849 ┆ LOS DAMASCOS ┆ Zona Sur     ┆ Cerrado   ┆ 2022-12-31  ┆ 2023-01-04  ┆ 2023-01-07  │\n",
       "│ 382          ┆ - 193038     ┆              ┆           ┆             ┆             ┆             │\n",
       "│ OT0000004849 ┆ LUREN -      ┆ Zona Sur     ┆ Cerrado   ┆ 2022-12-31  ┆ 2023-01-02  ┆ 2023-01-05  │\n",
       "│ 726          ┆ 380004       ┆              ┆           ┆             ┆             ┆             │\n",
       "│ OT0000004849 ┆ EL PINO -    ┆ Zona Centro  ┆ Cerrado   ┆ 2022-12-31  ┆ 2023-01-06  ┆ 2023-01-09  │\n",
       "│ 732          ┆ 191087       ┆              ┆           ┆             ┆             ┆             │\n",
       "│ SA0000004849 ┆ TUSILAGOS -  ┆ Zona Centro  ┆ Rechazado ┆ 2022-12-31  ┆ null        ┆ null        │\n",
       "│ 307          ┆ 191108       ┆              ┆           ┆             ┆             ┆             │\n",
       "└──────────────┴──────────────┴──────────────┴───────────┴─────────────┴─────────────┴─────────────┘"
      ]
     },
     "execution_count": 17,
     "metadata": {},
     "output_type": "execute_result"
    }
   ],
   "source": [
    "tickets.head()"
   ]
  },
  {
   "cell_type": "code",
   "execution_count": 12,
   "metadata": {},
   "outputs": [],
   "source": [
    "tickets = tickets.with_columns(\n",
    "    pl.col('Ubicacion').str.split_exact(' - ',1)\n",
    "    .struct.rename_fields([\"Agencia_nombre\",\"Agencia_cod\"])\n",
    "    .alias(\"Agencia\")\n",
    ").unnest(\"Agencia\")"
   ]
  },
  {
   "cell_type": "code",
   "execution_count": 14,
   "metadata": {},
   "outputs": [],
   "source": [
    "tickets = tickets.cast({\"Agencia_cod\":pl.Int64})"
   ]
  },
  {
   "cell_type": "code",
   "execution_count": 15,
   "metadata": {},
   "outputs": [
    {
     "data": {
      "text/html": [
       "<div><style>\n",
       ".dataframe > thead > tr,\n",
       ".dataframe > tbody > tr {\n",
       "  text-align: right;\n",
       "  white-space: pre-wrap;\n",
       "}\n",
       "</style>\n",
       "<small>shape: (5, 10)</small><table border=\"1\" class=\"dataframe\"><thead><tr><th>TicketID</th><th>Ubicacion</th><th>Service Desk</th><th>Estado</th><th>Fecha Creacion</th><th>Fecha Termino</th><th>Fecha Cierre</th><th>Agencia_nombre</th><th>Agencia_cod</th><th>Fecha Real Fin</th></tr><tr><td>str</td><td>str</td><td>str</td><td>str</td><td>date</td><td>date</td><td>date</td><td>str</td><td>i64</td><td>date</td></tr></thead><tbody><tr><td>&quot;OT0000004849379&quot;</td><td>&quot;NAYLAMP - 191143&quot;</td><td>&quot;Zona Centro&quot;</td><td>&quot;Cerrado&quot;</td><td>2022-12-31</td><td>2023-01-25</td><td>2023-01-28</td><td>&quot;NAYLAMP&quot;</td><td>191143</td><td>2023-01-25</td></tr><tr><td>&quot;OT0000004849382&quot;</td><td>&quot;LOS DAMASCOS - 193038&quot;</td><td>&quot;Zona Sur&quot;</td><td>&quot;Cerrado&quot;</td><td>2022-12-31</td><td>2023-01-04</td><td>2023-01-07</td><td>&quot;LOS DAMASCOS&quot;</td><td>193038</td><td>2023-01-04</td></tr><tr><td>&quot;OT0000004849726&quot;</td><td>&quot;LUREN - 380004&quot;</td><td>&quot;Zona Sur&quot;</td><td>&quot;Cerrado&quot;</td><td>2022-12-31</td><td>2023-01-02</td><td>2023-01-05</td><td>&quot;LUREN&quot;</td><td>380004</td><td>2023-01-02</td></tr><tr><td>&quot;OT0000004849732&quot;</td><td>&quot;EL PINO - 191087&quot;</td><td>&quot;Zona Centro&quot;</td><td>&quot;Cerrado&quot;</td><td>2022-12-31</td><td>2023-01-06</td><td>2023-01-09</td><td>&quot;EL PINO&quot;</td><td>191087</td><td>2023-01-06</td></tr><tr><td>&quot;SA0000004849307&quot;</td><td>&quot;TUSILAGOS - 191108&quot;</td><td>&quot;Zona Centro&quot;</td><td>&quot;Rechazado&quot;</td><td>2022-12-31</td><td>null</td><td>null</td><td>&quot;TUSILAGOS&quot;</td><td>191108</td><td>null</td></tr></tbody></table></div>"
      ],
      "text/plain": [
       "shape: (5, 10)\n",
       "┌───────────┬───────────┬───────────┬───────────┬───┬───────────┬───────────┬───────────┬──────────┐\n",
       "│ TicketID  ┆ Ubicacion ┆ Service   ┆ Estado    ┆ … ┆ Fecha     ┆ Agencia_n ┆ Agencia_c ┆ Fecha    │\n",
       "│ ---       ┆ ---       ┆ Desk      ┆ ---       ┆   ┆ Cierre    ┆ ombre     ┆ od        ┆ Real Fin │\n",
       "│ str       ┆ str       ┆ ---       ┆ str       ┆   ┆ ---       ┆ ---       ┆ ---       ┆ ---      │\n",
       "│           ┆           ┆ str       ┆           ┆   ┆ date      ┆ str       ┆ i64       ┆ date     │\n",
       "╞═══════════╪═══════════╪═══════════╪═══════════╪═══╪═══════════╪═══════════╪═══════════╪══════════╡\n",
       "│ OT0000004 ┆ NAYLAMP - ┆ Zona      ┆ Cerrado   ┆ … ┆ 2023-01-2 ┆ NAYLAMP   ┆ 191143    ┆ 2023-01- │\n",
       "│ 849379    ┆ 191143    ┆ Centro    ┆           ┆   ┆ 8         ┆           ┆           ┆ 25       │\n",
       "│ OT0000004 ┆ LOS       ┆ Zona Sur  ┆ Cerrado   ┆ … ┆ 2023-01-0 ┆ LOS       ┆ 193038    ┆ 2023-01- │\n",
       "│ 849382    ┆ DAMASCOS  ┆           ┆           ┆   ┆ 7         ┆ DAMASCOS  ┆           ┆ 04       │\n",
       "│           ┆ - 193038  ┆           ┆           ┆   ┆           ┆           ┆           ┆          │\n",
       "│ OT0000004 ┆ LUREN -   ┆ Zona Sur  ┆ Cerrado   ┆ … ┆ 2023-01-0 ┆ LUREN     ┆ 380004    ┆ 2023-01- │\n",
       "│ 849726    ┆ 380004    ┆           ┆           ┆   ┆ 5         ┆           ┆           ┆ 02       │\n",
       "│ OT0000004 ┆ EL PINO - ┆ Zona      ┆ Cerrado   ┆ … ┆ 2023-01-0 ┆ EL PINO   ┆ 191087    ┆ 2023-01- │\n",
       "│ 849732    ┆ 191087    ┆ Centro    ┆           ┆   ┆ 9         ┆           ┆           ┆ 06       │\n",
       "│ SA0000004 ┆ TUSILAGOS ┆ Zona      ┆ Rechazado ┆ … ┆ null      ┆ TUSILAGOS ┆ 191108    ┆ null     │\n",
       "│ 849307    ┆ - 191108  ┆ Centro    ┆           ┆   ┆           ┆           ┆           ┆          │\n",
       "└───────────┴───────────┴───────────┴───────────┴───┴───────────┴───────────┴───────────┴──────────┘"
      ]
     },
     "execution_count": 15,
     "metadata": {},
     "output_type": "execute_result"
    }
   ],
   "source": [
    "### creacion columna fecha FEcha real Fin\n",
    "\n",
    "tickets = tickets.with_columns(\n",
    "    pl.when(pl.col(\"Fecha Termino\").is_null())\n",
    "    .then(pl.col(\"Fecha Cierre\"))\n",
    "    .otherwise(pl.col(\"Fecha Termino\")).alias(\"Fecha Real Fin\")\n",
    ")\n",
    "tickets.head()"
   ]
  },
  {
   "cell_type": "code",
   "execution_count": 16,
   "metadata": {},
   "outputs": [
    {
     "data": {
      "text/html": [
       "<div><style>\n",
       ".dataframe > thead > tr,\n",
       ".dataframe > tbody > tr {\n",
       "  text-align: right;\n",
       "  white-space: pre-wrap;\n",
       "}\n",
       "</style>\n",
       "<small>shape: (5, 11)</small><table border=\"1\" class=\"dataframe\"><thead><tr><th>TicketID</th><th>Ubicacion</th><th>Service Desk</th><th>Estado</th><th>Fecha Creacion</th><th>Fecha Termino</th><th>Fecha Cierre</th><th>Agencia_nombre</th><th>Agencia_cod</th><th>Fecha Real Fin</th><th>Dias Cierre</th></tr><tr><td>str</td><td>str</td><td>str</td><td>str</td><td>date</td><td>date</td><td>date</td><td>str</td><td>i64</td><td>date</td><td>i64</td></tr></thead><tbody><tr><td>&quot;OT0000004849379&quot;</td><td>&quot;NAYLAMP - 191143&quot;</td><td>&quot;Zona Centro&quot;</td><td>&quot;Cerrado&quot;</td><td>2022-12-31</td><td>2023-01-25</td><td>2023-01-28</td><td>&quot;NAYLAMP&quot;</td><td>191143</td><td>2023-01-25</td><td>25</td></tr><tr><td>&quot;OT0000004849382&quot;</td><td>&quot;LOS DAMASCOS - 193038&quot;</td><td>&quot;Zona Sur&quot;</td><td>&quot;Cerrado&quot;</td><td>2022-12-31</td><td>2023-01-04</td><td>2023-01-07</td><td>&quot;LOS DAMASCOS&quot;</td><td>193038</td><td>2023-01-04</td><td>4</td></tr><tr><td>&quot;OT0000004849726&quot;</td><td>&quot;LUREN - 380004&quot;</td><td>&quot;Zona Sur&quot;</td><td>&quot;Cerrado&quot;</td><td>2022-12-31</td><td>2023-01-02</td><td>2023-01-05</td><td>&quot;LUREN&quot;</td><td>380004</td><td>2023-01-02</td><td>2</td></tr><tr><td>&quot;OT0000004849732&quot;</td><td>&quot;EL PINO - 191087&quot;</td><td>&quot;Zona Centro&quot;</td><td>&quot;Cerrado&quot;</td><td>2022-12-31</td><td>2023-01-06</td><td>2023-01-09</td><td>&quot;EL PINO&quot;</td><td>191087</td><td>2023-01-06</td><td>6</td></tr><tr><td>&quot;SA0000004849307&quot;</td><td>&quot;TUSILAGOS - 191108&quot;</td><td>&quot;Zona Centro&quot;</td><td>&quot;Rechazado&quot;</td><td>2022-12-31</td><td>null</td><td>null</td><td>&quot;TUSILAGOS&quot;</td><td>191108</td><td>null</td><td>null</td></tr></tbody></table></div>"
      ],
      "text/plain": [
       "shape: (5, 11)\n",
       "┌───────────┬───────────┬───────────┬───────────┬───┬───────────┬───────────┬───────────┬──────────┐\n",
       "│ TicketID  ┆ Ubicacion ┆ Service   ┆ Estado    ┆ … ┆ Agencia_n ┆ Agencia_c ┆ Fecha     ┆ Dias     │\n",
       "│ ---       ┆ ---       ┆ Desk      ┆ ---       ┆   ┆ ombre     ┆ od        ┆ Real Fin  ┆ Cierre   │\n",
       "│ str       ┆ str       ┆ ---       ┆ str       ┆   ┆ ---       ┆ ---       ┆ ---       ┆ ---      │\n",
       "│           ┆           ┆ str       ┆           ┆   ┆ str       ┆ i64       ┆ date      ┆ i64      │\n",
       "╞═══════════╪═══════════╪═══════════╪═══════════╪═══╪═══════════╪═══════════╪═══════════╪══════════╡\n",
       "│ OT0000004 ┆ NAYLAMP - ┆ Zona      ┆ Cerrado   ┆ … ┆ NAYLAMP   ┆ 191143    ┆ 2023-01-2 ┆ 25       │\n",
       "│ 849379    ┆ 191143    ┆ Centro    ┆           ┆   ┆           ┆           ┆ 5         ┆          │\n",
       "│ OT0000004 ┆ LOS       ┆ Zona Sur  ┆ Cerrado   ┆ … ┆ LOS       ┆ 193038    ┆ 2023-01-0 ┆ 4        │\n",
       "│ 849382    ┆ DAMASCOS  ┆           ┆           ┆   ┆ DAMASCOS  ┆           ┆ 4         ┆          │\n",
       "│           ┆ - 193038  ┆           ┆           ┆   ┆           ┆           ┆           ┆          │\n",
       "│ OT0000004 ┆ LUREN -   ┆ Zona Sur  ┆ Cerrado   ┆ … ┆ LUREN     ┆ 380004    ┆ 2023-01-0 ┆ 2        │\n",
       "│ 849726    ┆ 380004    ┆           ┆           ┆   ┆           ┆           ┆ 2         ┆          │\n",
       "│ OT0000004 ┆ EL PINO - ┆ Zona      ┆ Cerrado   ┆ … ┆ EL PINO   ┆ 191087    ┆ 2023-01-0 ┆ 6        │\n",
       "│ 849732    ┆ 191087    ┆ Centro    ┆           ┆   ┆           ┆           ┆ 6         ┆          │\n",
       "│ SA0000004 ┆ TUSILAGOS ┆ Zona      ┆ Rechazado ┆ … ┆ TUSILAGOS ┆ 191108    ┆ null      ┆ null     │\n",
       "│ 849307    ┆ - 191108  ┆ Centro    ┆           ┆   ┆           ┆           ┆           ┆          │\n",
       "└───────────┴───────────┴───────────┴───────────┴───┴───────────┴───────────┴───────────┴──────────┘"
      ]
     },
     "execution_count": 16,
     "metadata": {},
     "output_type": "execute_result"
    }
   ],
   "source": [
    "tickets = tickets.with_columns(\n",
    "    (pl.col(\"Fecha Real Fin\")-pl.col(\"Fecha Creacion\")).dt.total_days()\n",
    ".alias(\"Dias Cierre\")\n",
    ")\n",
    "tickets.head(5)"
   ]
  },
  {
   "cell_type": "code",
   "execution_count": 17,
   "metadata": {},
   "outputs": [],
   "source": [
    "### creacion del campo final\n",
    "\n",
    "tickets = tickets.with_columns(\n",
    "    pl.when(pl.col(\"Dias Cierre\").is_null()).then(None)\n",
    "    .when(pl.col(\"Dias Cierre\") <= 3).then(pl.lit('0 a 3 dias'))\n",
    "    .when(pl.col(\"Dias Cierre\") <= 7).then(pl.lit('4 a 7 dias'))\n",
    "    .when(pl.col(\"Dias Cierre\") <= 15).then(pl.lit('8 a 15 dias'))\n",
    "    .otherwise(pl.lit('Mayor a 15 dias'))\n",
    "    .alias(\"Grupo Dias\")\n",
    ")\n"
   ]
  },
  {
   "cell_type": "markdown",
   "metadata": {},
   "source": [
    "#### Base Atenciones de pedidos"
   ]
  },
  {
   "cell_type": "markdown",
   "metadata": {},
   "source": [
    "###### estas son pruebas que hice con un solo archivo la version subiendo todo lo de la carpeta está más adelante"
   ]
  },
  {
   "cell_type": "code",
   "execution_count": 18,
   "metadata": {},
   "outputs": [
    {
     "data": {
      "text/html": [
       "<div><style>\n",
       ".dataframe > thead > tr,\n",
       ".dataframe > tbody > tr {\n",
       "  text-align: right;\n",
       "  white-space: pre-wrap;\n",
       "}\n",
       "</style>\n",
       "<small>shape: (5, 4)</small><table border=\"1\" class=\"dataframe\"><thead><tr><th>Numero Ticket</th><th>Tipo de Ticket</th><th>Proveedor</th><th>Costo Atencion</th></tr><tr><td>str</td><td>str</td><td>str</td><td>str</td></tr></thead><tbody><tr><td>&quot;WO0000004122302&quot;</td><td>&quot;Flat&quot;</td><td>&quot;ACCENTURE&quot;</td><td>null</td></tr><tr><td>&quot;WO0000004122303&quot;</td><td>&quot;Flat&quot;</td><td>&quot;ACCENTURE&quot;</td><td>null</td></tr><tr><td>&quot;WO0000004122360&quot;</td><td>&quot;Flat&quot;</td><td>&quot;ACCENTURE&quot;</td><td>null</td></tr><tr><td>&quot;WO0000004122411&quot;</td><td>&quot;Rechazado&quot;</td><td>null</td><td>null</td></tr><tr><td>&quot;WO0000004122441&quot;</td><td>&quot;Variable&quot;</td><td>&quot;PROSEGUR&quot;</td><td>null</td></tr></tbody></table></div>"
      ],
      "text/plain": [
       "shape: (5, 4)\n",
       "┌─────────────────┬────────────────┬───────────┬────────────────┐\n",
       "│ Numero Ticket   ┆ Tipo de Ticket ┆ Proveedor ┆ Costo Atencion │\n",
       "│ ---             ┆ ---            ┆ ---       ┆ ---            │\n",
       "│ str             ┆ str            ┆ str       ┆ str            │\n",
       "╞═════════════════╪════════════════╪═══════════╪════════════════╡\n",
       "│ WO0000004122302 ┆ Flat           ┆ ACCENTURE ┆ null           │\n",
       "│ WO0000004122303 ┆ Flat           ┆ ACCENTURE ┆ null           │\n",
       "│ WO0000004122360 ┆ Flat           ┆ ACCENTURE ┆ null           │\n",
       "│ WO0000004122411 ┆ Rechazado      ┆ null      ┆ null           │\n",
       "│ WO0000004122441 ┆ Variable       ┆ PROSEGUR  ┆ null           │\n",
       "└─────────────────┴────────────────┴───────────┴────────────────┘"
      ]
     },
     "execution_count": 18,
     "metadata": {},
     "output_type": "execute_result"
    }
   ],
   "source": [
    "ruta_archivo = (\n",
    "    \"C:/Users/DELL/Downloads/CURSOS DE APRENDIZAJE Y CODIGOS R_IBK\"\n",
    "    \"/CURSO PYTHON/Gestion de Atenciones2/Materiales/Atenciones/Atenciones Norte.xlsx\")\n",
    "\n",
    "atenciones = pl.read_excel(source=ruta_archivo, sheet_name=\"Hoja1\",\n",
    "                      engine = \"xlsx2csv\",\n",
    "                      read_csv_options={\n",
    "                          \"columns\":[\"Numero Ticket\",\"Tipo de Ticket\",\"Proveedor\",\"Costo Atencion\"],\n",
    "                      }\n",
    "                      )\n",
    "\n",
    "atenciones.head()"
   ]
  },
  {
   "cell_type": "code",
   "execution_count": 19,
   "metadata": {},
   "outputs": [],
   "source": [
    "atenciones = atenciones.rename({\"Numero Ticket\":\"TicketID\"})\n"
   ]
  },
  {
   "cell_type": "code",
   "execution_count": 20,
   "metadata": {},
   "outputs": [],
   "source": [
    "atenciones = atenciones.with_columns(\n",
    "    pl.col(\"Costo Atencion\").str.to_uppercase()\n",
    ")\n"
   ]
  },
  {
   "cell_type": "code",
   "execution_count": 163,
   "metadata": {},
   "outputs": [
    {
     "data": {
      "text/html": [
       "<div><style>\n",
       ".dataframe > thead > tr,\n",
       ".dataframe > tbody > tr {\n",
       "  text-align: right;\n",
       "  white-space: pre-wrap;\n",
       "}\n",
       "</style>\n",
       "<small>shape: (2_172, 4)</small><table border=\"1\" class=\"dataframe\"><thead><tr><th>TicketID</th><th>Tipo de Ticket</th><th>Proveedor</th><th>Costo Atencion</th></tr><tr><td>str</td><td>str</td><td>str</td><td>str</td></tr></thead><tbody><tr><td>&quot;WO0000004851733&quot;</td><td>&quot;Flat&quot;</td><td>&quot;ACCENTURE&quot;</td><td>&quot;10&quot;</td></tr><tr><td>&quot;WO0000004852359&quot;</td><td>&quot;Flat&quot;</td><td>&quot;ACCENTURE&quot;</td><td>&quot;SIN COSTO&quot;</td></tr><tr><td>&quot;WO0000004852982&quot;</td><td>&quot;Flat&quot;</td><td>&quot;ACCENTURE&quot;</td><td>&quot;33.898305084745758&quot;</td></tr><tr><td>&quot;WO0000004853123&quot;</td><td>&quot;Flat&quot;</td><td>&quot;ACCENTURE&quot;</td><td>&quot;SIN COSTO&quot;</td></tr><tr><td>&quot;WO0000004853184&quot;</td><td>&quot;Flat&quot;</td><td>&quot;ACCENTURE&quot;</td><td>&quot;3.389830508474577&quot;</td></tr><tr><td>&quot;WO0000004853307&quot;</td><td>&quot;Variable&quot;</td><td>&quot;ACCENTURE&quot;</td><td>&quot;628&quot;</td></tr><tr><td>&quot;WO0000004854033&quot;</td><td>&quot;Flat&quot;</td><td>&quot;ACCENTURE&quot;</td><td>&quot;SIN COSTO&quot;</td></tr><tr><td>&quot;WO0000004854084&quot;</td><td>&quot;Variable&quot;</td><td>&quot;COORPORACION R&amp;M&quot;</td><td>&quot;424&quot;</td></tr><tr><td>&quot;WO0000004854303&quot;</td><td>&quot;Flat&quot;</td><td>&quot;ACCENTURE&quot;</td><td>&quot;SIN COSTO&quot;</td></tr><tr><td>&quot;WO0000004854309&quot;</td><td>&quot;Flat&quot;</td><td>&quot;ACCENTURE&quot;</td><td>&quot;149&quot;</td></tr><tr><td>&quot;WO0000004854317&quot;</td><td>&quot;Flat&quot;</td><td>&quot;ACCENTURE&quot;</td><td>&quot;SIN COSTO&quot;</td></tr><tr><td>&quot;WO0000004854347&quot;</td><td>&quot;Flat&quot;</td><td>&quot;ACCENTURE&quot;</td><td>&quot;SIN COSTO&quot;</td></tr><tr><td>&hellip;</td><td>&hellip;</td><td>&hellip;</td><td>&hellip;</td></tr><tr><td>&quot;WO0000005730406&quot;</td><td>&quot;Variable&quot;</td><td>&quot;CECHRIZA&quot;</td><td>&quot;COSTO CERO&quot;</td></tr><tr><td>&quot;WO0000005730455&quot;</td><td>&quot;Variable&quot;</td><td>&quot;JGM IMPORT&quot;</td><td>&quot;200.6&quot;</td></tr><tr><td>&quot;WO0000005731335&quot;</td><td>&quot;Variable&quot;</td><td>&quot;CECHRIZA&quot;</td><td>&quot;59&quot;</td></tr><tr><td>&quot;WO0000005731337&quot;</td><td>&quot;Variable&quot;</td><td>&quot;CECHRIZA&quot;</td><td>&quot;59&quot;</td></tr><tr><td>&quot;WO0000005731338&quot;</td><td>&quot;Variable&quot;</td><td>&quot;CECHRIZA&quot;</td><td>&quot;59&quot;</td></tr><tr><td>&quot;WO0000005731349&quot;</td><td>&quot;Flat&quot;</td><td>&quot;ACCENTURE&quot;</td><td>&quot;COSTO CERO&quot;</td></tr><tr><td>&quot;WO0000005731737&quot;</td><td>&quot;Variable&quot;</td><td>&quot;CECHRIZA&quot;</td><td>&quot;901.96&quot;</td></tr><tr><td>&quot;WO0000005731747&quot;</td><td>&quot;Variable&quot;</td><td>&quot;CECHRIZA&quot;</td><td>&quot;2083.4299999999998&quot;</td></tr><tr><td>&quot;WO0000005733751&quot;</td><td>&quot;Variable&quot;</td><td>&quot;CECHRIZA&quot;</td><td>&quot;59&quot;</td></tr><tr><td>&quot;WO0000005734101&quot;</td><td>&quot;Flat&quot;</td><td>&quot;ACCENTURE&quot;</td><td>&quot;COSTO CERO&quot;</td></tr><tr><td>&quot;WO0000005734524&quot;</td><td>&quot;Flat&quot;</td><td>&quot;ACCENTURE&quot;</td><td>&quot;COSTO CERO&quot;</td></tr><tr><td>&quot;WO0000005735276&quot;</td><td>&quot;Variable&quot;</td><td>&quot;TRAZAIDEA&quot;</td><td>&quot;404.74&quot;</td></tr></tbody></table></div>"
      ],
      "text/plain": [
       "shape: (2_172, 4)\n",
       "┌─────────────────┬────────────────┬───────────┬────────────────────┐\n",
       "│ TicketID        ┆ Tipo de Ticket ┆ Proveedor ┆ Costo Atencion     │\n",
       "│ ---             ┆ ---            ┆ ---       ┆ ---                │\n",
       "│ str             ┆ str            ┆ str       ┆ str                │\n",
       "╞═════════════════╪════════════════╪═══════════╪════════════════════╡\n",
       "│ WO0000004851733 ┆ Flat           ┆ ACCENTURE ┆ 10                 │\n",
       "│ WO0000004852359 ┆ Flat           ┆ ACCENTURE ┆ SIN COSTO          │\n",
       "│ WO0000004852982 ┆ Flat           ┆ ACCENTURE ┆ 33.898305084745758 │\n",
       "│ WO0000004853123 ┆ Flat           ┆ ACCENTURE ┆ SIN COSTO          │\n",
       "│ WO0000004853184 ┆ Flat           ┆ ACCENTURE ┆ 3.389830508474577  │\n",
       "│ …               ┆ …              ┆ …         ┆ …                  │\n",
       "│ WO0000005731747 ┆ Variable       ┆ CECHRIZA  ┆ 2083.4299999999998 │\n",
       "│ WO0000005733751 ┆ Variable       ┆ CECHRIZA  ┆ 59                 │\n",
       "│ WO0000005734101 ┆ Flat           ┆ ACCENTURE ┆ COSTO CERO         │\n",
       "│ WO0000005734524 ┆ Flat           ┆ ACCENTURE ┆ COSTO CERO         │\n",
       "│ WO0000005735276 ┆ Variable       ┆ TRAZAIDEA ┆ 404.74             │\n",
       "└─────────────────┴────────────────┴───────────┴────────────────────┘"
      ]
     },
     "execution_count": 163,
     "metadata": {},
     "output_type": "execute_result"
    }
   ],
   "source": [
    "atenciones.filter(\n",
    "    ~pl.col(\"Costo Atencion\").is_null()\n",
    ")"
   ]
  },
  {
   "cell_type": "code",
   "execution_count": 21,
   "metadata": {},
   "outputs": [],
   "source": [
    "atenciones = atenciones.select(\n",
    "    pl.col(\"TicketID\"),\n",
    "    \"Tipo de Ticket\", \"Proveedor\",\n",
    "    pl.col(\"Costo Atencion\").str.strip_chars()\n",
    "    .str.to_uppercase()\n",
    "    .str.replace_many(['COSTO CERO','SIN COSTO'],\"0\")\n",
    "\n",
    ")"
   ]
  },
  {
   "cell_type": "code",
   "execution_count": 172,
   "metadata": {},
   "outputs": [
    {
     "data": {
      "text/html": [
       "<div><style>\n",
       ".dataframe > thead > tr,\n",
       ".dataframe > tbody > tr {\n",
       "  text-align: right;\n",
       "  white-space: pre-wrap;\n",
       "}\n",
       "</style>\n",
       "<small>shape: (1_093, 4)</small><table border=\"1\" class=\"dataframe\"><thead><tr><th>TicketID</th><th>Tipo de Ticket</th><th>Proveedor</th><th>Costo Atencion</th></tr><tr><td>str</td><td>str</td><td>str</td><td>str</td></tr></thead><tbody><tr><td>&quot;WO0000004435308&quot;</td><td>&quot;No Definido&quot;</td><td>null</td><td>&quot;287.89999999999998&quot;</td></tr><tr><td>&quot;WO0000004463917&quot;</td><td>&quot;Rechazado&quot;</td><td>null</td><td>&quot;200&quot;</td></tr><tr><td>&quot;WO0000004524311&quot;</td><td>&quot;Rechazado&quot;</td><td>null</td><td>&quot;200&quot;</td></tr><tr><td>&quot;WO0000004527587&quot;</td><td>&quot;Rechazado&quot;</td><td>null</td><td>&quot;190&quot;</td></tr><tr><td>&quot;WO0000004528549&quot;</td><td>&quot;Rechazado&quot;</td><td>null</td><td>&quot;550&quot;</td></tr><tr><td>&quot;WO0000004530795&quot;</td><td>&quot;Rechazado&quot;</td><td>null</td><td>&quot;200&quot;</td></tr><tr><td>&quot;WO0000004531097&quot;</td><td>&quot;Rechazado&quot;</td><td>null</td><td>&quot;200&quot;</td></tr><tr><td>&quot;WO0000004531333&quot;</td><td>&quot;Rechazado&quot;</td><td>null</td><td>&quot;120&quot;</td></tr><tr><td>&quot;WO0000004531929&quot;</td><td>&quot;Rechazado&quot;</td><td>null</td><td>&quot;155.5&quot;</td></tr><tr><td>&quot;WO0000004532033&quot;</td><td>&quot;Rechazado&quot;</td><td>null</td><td>&quot;213.5&quot;</td></tr><tr><td>&quot;WO0000004533521&quot;</td><td>&quot;Rechazado&quot;</td><td>null</td><td>&quot;2507.75&quot;</td></tr><tr><td>&quot;WO0000004533565&quot;</td><td>&quot;Rechazado&quot;</td><td>null</td><td>&quot;140&quot;</td></tr><tr><td>&hellip;</td><td>&hellip;</td><td>&hellip;</td><td>&hellip;</td></tr><tr><td>&quot;WO0000005656035&quot;</td><td>&quot;Variable&quot;</td><td>&quot;ACCENTURE&quot;</td><td>&quot;450&quot;</td></tr><tr><td>&quot;WO0000005657843&quot;</td><td>&quot;Variable&quot;</td><td>&quot;ACCENTURE&quot;</td><td>&quot;140.5&quot;</td></tr><tr><td>&quot;WO0000005661254&quot;</td><td>&quot;Variable&quot;</td><td>&quot;ACCENTURE&quot;</td><td>&quot;104&quot;</td></tr><tr><td>&quot;WO0000005665261&quot;</td><td>&quot;Flat&quot;</td><td>&quot;ACCENTURE&quot;</td><td>&quot;97.5&quot;</td></tr><tr><td>&quot;WO0000005667710&quot;</td><td>&quot;Flat&quot;</td><td>&quot;ACCENTURE&quot;</td><td>&quot;186.5&quot;</td></tr><tr><td>&quot;WO0000005667717&quot;</td><td>&quot;Variable&quot;</td><td>&quot;ACCENTURE&quot;</td><td>&quot;495&quot;</td></tr><tr><td>&quot;WO0000005671697&quot;</td><td>&quot;Flat&quot;</td><td>&quot;ACCENTURE&quot;</td><td>&quot;GARANTIA&quot;</td></tr><tr><td>&quot;WO0000005677755&quot;</td><td>&quot;Flat&quot;</td><td>&quot;ACCENTURE&quot;</td><td>&quot;ATENDIDO POR GARANTIA&quot;</td></tr><tr><td>&quot;WO0000005679504&quot;</td><td>&quot;Flat&quot;</td><td>&quot;ACCENTURE&quot;</td><td>&quot;105&quot;</td></tr><tr><td>&quot;WO0000005691309&quot;</td><td>&quot;Variable&quot;</td><td>&quot;ACCENTURE&quot;</td><td>&quot;123.5&quot;</td></tr><tr><td>&quot;WO0000005692482&quot;</td><td>&quot;Variable&quot;</td><td>&quot;ACCENTURE&quot;</td><td>&quot;290.31&quot;</td></tr><tr><td>&quot;WO0000005693182&quot;</td><td>&quot;Variable&quot;</td><td>&quot;TGESTIONA&quot;</td><td>&quot;GARANTIA&quot;</td></tr></tbody></table></div>"
      ],
      "text/plain": [
       "shape: (1_093, 4)\n",
       "┌─────────────────┬────────────────┬───────────┬───────────────────────┐\n",
       "│ TicketID        ┆ Tipo de Ticket ┆ Proveedor ┆ Costo Atencion        │\n",
       "│ ---             ┆ ---            ┆ ---       ┆ ---                   │\n",
       "│ str             ┆ str            ┆ str       ┆ str                   │\n",
       "╞═════════════════╪════════════════╪═══════════╪═══════════════════════╡\n",
       "│ WO0000004435308 ┆ No Definido    ┆ null      ┆ 287.89999999999998    │\n",
       "│ WO0000004463917 ┆ Rechazado      ┆ null      ┆ 200                   │\n",
       "│ WO0000004524311 ┆ Rechazado      ┆ null      ┆ 200                   │\n",
       "│ WO0000004527587 ┆ Rechazado      ┆ null      ┆ 190                   │\n",
       "│ WO0000004528549 ┆ Rechazado      ┆ null      ┆ 550                   │\n",
       "│ …               ┆ …              ┆ …         ┆ …                     │\n",
       "│ WO0000005677755 ┆ Flat           ┆ ACCENTURE ┆ ATENDIDO POR GARANTIA │\n",
       "│ WO0000005679504 ┆ Flat           ┆ ACCENTURE ┆ 105                   │\n",
       "│ WO0000005691309 ┆ Variable       ┆ ACCENTURE ┆ 123.5                 │\n",
       "│ WO0000005692482 ┆ Variable       ┆ ACCENTURE ┆ 290.31                │\n",
       "│ WO0000005693182 ┆ Variable       ┆ TGESTIONA ┆ GARANTIA              │\n",
       "└─────────────────┴────────────────┴───────────┴───────────────────────┘"
      ]
     },
     "execution_count": 172,
     "metadata": {},
     "output_type": "execute_result"
    }
   ],
   "source": [
    "atenciones.filter(\n",
    "    ~pl.col(\"Costo Atencion\").is_null()\n",
    ")"
   ]
  },
  {
   "cell_type": "code",
   "execution_count": 22,
   "metadata": {},
   "outputs": [],
   "source": [
    "def convertir_decimal(valor):\n",
    "    try:\n",
    "        return round(float(valor),2)\n",
    "    except:\n",
    "        return None"
   ]
  },
  {
   "cell_type": "code",
   "execution_count": 23,
   "metadata": {},
   "outputs": [],
   "source": [
    "atenciones = atenciones.with_columns(\n",
    "    pl.col(\"Costo Atencion\").map_elements(convertir_decimal)\n",
    ")"
   ]
  },
  {
   "cell_type": "code",
   "execution_count": 175,
   "metadata": {},
   "outputs": [
    {
     "data": {
      "text/html": [
       "<div><style>\n",
       ".dataframe > thead > tr,\n",
       ".dataframe > tbody > tr {\n",
       "  text-align: right;\n",
       "  white-space: pre-wrap;\n",
       "}\n",
       "</style>\n",
       "<small>shape: (1_078, 4)</small><table border=\"1\" class=\"dataframe\"><thead><tr><th>TicketID</th><th>Tipo de Ticket</th><th>Proveedor</th><th>Costo Atencion</th></tr><tr><td>str</td><td>str</td><td>str</td><td>f64</td></tr></thead><tbody><tr><td>&quot;WO0000004435308&quot;</td><td>&quot;No Definido&quot;</td><td>null</td><td>287.9</td></tr><tr><td>&quot;WO0000004463917&quot;</td><td>&quot;Rechazado&quot;</td><td>null</td><td>200.0</td></tr><tr><td>&quot;WO0000004524311&quot;</td><td>&quot;Rechazado&quot;</td><td>null</td><td>200.0</td></tr><tr><td>&quot;WO0000004527587&quot;</td><td>&quot;Rechazado&quot;</td><td>null</td><td>190.0</td></tr><tr><td>&quot;WO0000004528549&quot;</td><td>&quot;Rechazado&quot;</td><td>null</td><td>550.0</td></tr><tr><td>&quot;WO0000004530795&quot;</td><td>&quot;Rechazado&quot;</td><td>null</td><td>200.0</td></tr><tr><td>&quot;WO0000004531097&quot;</td><td>&quot;Rechazado&quot;</td><td>null</td><td>200.0</td></tr><tr><td>&quot;WO0000004531333&quot;</td><td>&quot;Rechazado&quot;</td><td>null</td><td>120.0</td></tr><tr><td>&quot;WO0000004531929&quot;</td><td>&quot;Rechazado&quot;</td><td>null</td><td>155.5</td></tr><tr><td>&quot;WO0000004532033&quot;</td><td>&quot;Rechazado&quot;</td><td>null</td><td>213.5</td></tr><tr><td>&quot;WO0000004533521&quot;</td><td>&quot;Rechazado&quot;</td><td>null</td><td>2507.75</td></tr><tr><td>&quot;WO0000004533565&quot;</td><td>&quot;Rechazado&quot;</td><td>null</td><td>140.0</td></tr><tr><td>&hellip;</td><td>&hellip;</td><td>&hellip;</td><td>&hellip;</td></tr><tr><td>&quot;WO0000005655213&quot;</td><td>&quot;Flat&quot;</td><td>&quot;ACCENTURE&quot;</td><td>378.0</td></tr><tr><td>&quot;WO0000005655229&quot;</td><td>&quot;Flat&quot;</td><td>&quot;ACCENTURE&quot;</td><td>540.0</td></tr><tr><td>&quot;WO0000005655271&quot;</td><td>&quot;Flat&quot;</td><td>&quot;ACCENTURE&quot;</td><td>191.0</td></tr><tr><td>&quot;WO0000005656035&quot;</td><td>&quot;Variable&quot;</td><td>&quot;ACCENTURE&quot;</td><td>450.0</td></tr><tr><td>&quot;WO0000005657843&quot;</td><td>&quot;Variable&quot;</td><td>&quot;ACCENTURE&quot;</td><td>140.5</td></tr><tr><td>&quot;WO0000005661254&quot;</td><td>&quot;Variable&quot;</td><td>&quot;ACCENTURE&quot;</td><td>104.0</td></tr><tr><td>&quot;WO0000005665261&quot;</td><td>&quot;Flat&quot;</td><td>&quot;ACCENTURE&quot;</td><td>97.5</td></tr><tr><td>&quot;WO0000005667710&quot;</td><td>&quot;Flat&quot;</td><td>&quot;ACCENTURE&quot;</td><td>186.5</td></tr><tr><td>&quot;WO0000005667717&quot;</td><td>&quot;Variable&quot;</td><td>&quot;ACCENTURE&quot;</td><td>495.0</td></tr><tr><td>&quot;WO0000005679504&quot;</td><td>&quot;Flat&quot;</td><td>&quot;ACCENTURE&quot;</td><td>105.0</td></tr><tr><td>&quot;WO0000005691309&quot;</td><td>&quot;Variable&quot;</td><td>&quot;ACCENTURE&quot;</td><td>123.5</td></tr><tr><td>&quot;WO0000005692482&quot;</td><td>&quot;Variable&quot;</td><td>&quot;ACCENTURE&quot;</td><td>290.31</td></tr></tbody></table></div>"
      ],
      "text/plain": [
       "shape: (1_078, 4)\n",
       "┌─────────────────┬────────────────┬───────────┬────────────────┐\n",
       "│ TicketID        ┆ Tipo de Ticket ┆ Proveedor ┆ Costo Atencion │\n",
       "│ ---             ┆ ---            ┆ ---       ┆ ---            │\n",
       "│ str             ┆ str            ┆ str       ┆ f64            │\n",
       "╞═════════════════╪════════════════╪═══════════╪════════════════╡\n",
       "│ WO0000004435308 ┆ No Definido    ┆ null      ┆ 287.9          │\n",
       "│ WO0000004463917 ┆ Rechazado      ┆ null      ┆ 200.0          │\n",
       "│ WO0000004524311 ┆ Rechazado      ┆ null      ┆ 200.0          │\n",
       "│ WO0000004527587 ┆ Rechazado      ┆ null      ┆ 190.0          │\n",
       "│ WO0000004528549 ┆ Rechazado      ┆ null      ┆ 550.0          │\n",
       "│ …               ┆ …              ┆ …         ┆ …              │\n",
       "│ WO0000005667710 ┆ Flat           ┆ ACCENTURE ┆ 186.5          │\n",
       "│ WO0000005667717 ┆ Variable       ┆ ACCENTURE ┆ 495.0          │\n",
       "│ WO0000005679504 ┆ Flat           ┆ ACCENTURE ┆ 105.0          │\n",
       "│ WO0000005691309 ┆ Variable       ┆ ACCENTURE ┆ 123.5          │\n",
       "│ WO0000005692482 ┆ Variable       ┆ ACCENTURE ┆ 290.31         │\n",
       "└─────────────────┴────────────────┴───────────┴────────────────┘"
      ]
     },
     "execution_count": 175,
     "metadata": {},
     "output_type": "execute_result"
    }
   ],
   "source": [
    "atenciones.filter(\n",
    "    ~pl.col(\"Costo Atencion\").is_null()\n",
    ")"
   ]
  },
  {
   "cell_type": "markdown",
   "metadata": {},
   "source": [
    "### En esta parte ya leo todo consolidado"
   ]
  },
  {
   "cell_type": "code",
   "execution_count": 24,
   "metadata": {},
   "outputs": [
    {
     "data": {
      "text/plain": [
       "WindowsPath('C:/Users/DELL/Downloads/CURSOS DE APRENDIZAJE Y CODIGOS R_IBK/CURSO PYTHON/Gestion de Atenciones2/Materiales/Atenciones')"
      ]
     },
     "execution_count": 24,
     "metadata": {},
     "output_type": "execute_result"
    }
   ],
   "source": [
    "from pathlib import Path\n",
    "\n",
    "ruta = Path(\"C:/Users/DELL/Downloads/CURSOS DE APRENDIZAJE Y CODIGOS R_IBK/CURSO PYTHON/Gestion de Atenciones2/Materiales/Atenciones/\")\n",
    "ruta"
   ]
  },
  {
   "cell_type": "code",
   "execution_count": 25,
   "metadata": {},
   "outputs": [
    {
     "data": {
      "text/plain": [
       "[WindowsPath('C:/Users/DELL/Downloads/CURSOS DE APRENDIZAJE Y CODIGOS R_IBK/CURSO PYTHON/Gestion de Atenciones2/Materiales/Atenciones/Atenciones Centro.xlsx'),\n",
       " WindowsPath('C:/Users/DELL/Downloads/CURSOS DE APRENDIZAJE Y CODIGOS R_IBK/CURSO PYTHON/Gestion de Atenciones2/Materiales/Atenciones/Atenciones Norte.xlsx'),\n",
       " WindowsPath('C:/Users/DELL/Downloads/CURSOS DE APRENDIZAJE Y CODIGOS R_IBK/CURSO PYTHON/Gestion de Atenciones2/Materiales/Atenciones/Atenciones Sur.xlsx')]"
      ]
     },
     "execution_count": 25,
     "metadata": {},
     "output_type": "execute_result"
    }
   ],
   "source": [
    "archivos = list(ruta.glob('*.xlsx'))\n",
    "archivos\n"
   ]
  },
  {
   "cell_type": "code",
   "execution_count": 26,
   "metadata": {},
   "outputs": [
    {
     "name": "stdout",
     "output_type": "stream",
     "text": [
      "Atenciones Centro.xlsx\n",
      "Atenciones Norte.xlsx\n",
      "Atenciones Sur.xlsx\n"
     ]
    }
   ],
   "source": [
    "for archivo in archivos:\n",
    "    print(str(archivo).split('\\\\')[9])"
   ]
  },
  {
   "cell_type": "code",
   "execution_count": 27,
   "metadata": {},
   "outputs": [
    {
     "name": "stdout",
     "output_type": "stream",
     "text": [
      "shape: (12_604, 5)\n",
      "┌─────────────────┬────────────────┬──────────────────┬────────────────┬────────────────────────┐\n",
      "│ Numero Ticket   ┆ Tipo de Ticket ┆ Proveedor        ┆ Costo Atencion ┆ Nombre Archivo         │\n",
      "│ ---             ┆ ---            ┆ ---              ┆ ---            ┆ ---                    │\n",
      "│ str             ┆ str            ┆ str              ┆ str            ┆ str                    │\n",
      "╞═════════════════╪════════════════╪══════════════════╪════════════════╪════════════════════════╡\n",
      "│ WO0000005584689 ┆ Variable       ┆ MR EXPRESS       ┆ null           ┆ Atenciones Centro.xlsx │\n",
      "│ WO0000004544943 ┆ Rechazado      ┆ null             ┆ 100            ┆ Atenciones Centro.xlsx │\n",
      "│ WO0000004545246 ┆ Rechazado      ┆ null             ┆ 100            ┆ Atenciones Centro.xlsx │\n",
      "│ WO0000004559125 ┆ Rechazado      ┆ null             ┆ 100            ┆ Atenciones Centro.xlsx │\n",
      "│ WO0000004707477 ┆ Rechazado      ┆ null             ┆ 100            ┆ Atenciones Centro.xlsx │\n",
      "│ …               ┆ …              ┆ …                ┆ …              ┆ …                      │\n",
      "│ WO0000005737893 ┆ Variable       ┆ ACCENTURE        ┆ null           ┆ Atenciones Centro.xlsx │\n",
      "│ WO0000005738706 ┆ Variable       ┆ ACCENTURE        ┆ null           ┆ Atenciones Centro.xlsx │\n",
      "│ WO0000005738709 ┆ Variable       ┆ COORPORACION R&M ┆ null           ┆ Atenciones Centro.xlsx │\n",
      "│ WO0000005738726 ┆ Variable       ┆ ACCENTURE        ┆ null           ┆ Atenciones Centro.xlsx │\n",
      "│ WO0000005738729 ┆ Variable       ┆ ACCENTURE        ┆ null           ┆ Atenciones Centro.xlsx │\n",
      "└─────────────────┴────────────────┴──────────────────┴────────────────┴────────────────────────┘\n",
      "shape: (5_688, 5)\n",
      "┌─────────────────┬────────────────┬───────────┬────────────────┬───────────────────────┐\n",
      "│ Numero Ticket   ┆ Tipo de Ticket ┆ Proveedor ┆ Costo Atencion ┆ Nombre Archivo        │\n",
      "│ ---             ┆ ---            ┆ ---       ┆ ---            ┆ ---                   │\n",
      "│ str             ┆ str            ┆ str       ┆ str            ┆ str                   │\n",
      "╞═════════════════╪════════════════╪═══════════╪════════════════╪═══════════════════════╡\n",
      "│ WO0000004122302 ┆ Flat           ┆ ACCENTURE ┆ null           ┆ Atenciones Norte.xlsx │\n",
      "│ WO0000004122303 ┆ Flat           ┆ ACCENTURE ┆ null           ┆ Atenciones Norte.xlsx │\n",
      "│ WO0000004122360 ┆ Flat           ┆ ACCENTURE ┆ null           ┆ Atenciones Norte.xlsx │\n",
      "│ WO0000004122411 ┆ Rechazado      ┆ null      ┆ null           ┆ Atenciones Norte.xlsx │\n",
      "│ WO0000004122441 ┆ Variable       ┆ PROSEGUR  ┆ null           ┆ Atenciones Norte.xlsx │\n",
      "│ …               ┆ …              ┆ …         ┆ …              ┆ …                     │\n",
      "│ WO0000005735612 ┆ No Definido    ┆ null      ┆ null           ┆ Atenciones Norte.xlsx │\n",
      "│ WO0000005735617 ┆ No Definido    ┆ null      ┆ null           ┆ Atenciones Norte.xlsx │\n",
      "│ WO0000005735690 ┆ No Definido    ┆ null      ┆ null           ┆ Atenciones Norte.xlsx │\n",
      "│ WO0000005736035 ┆ No Definido    ┆ null      ┆ null           ┆ Atenciones Norte.xlsx │\n",
      "│ WO0000005736373 ┆ No Definido    ┆ null      ┆ null           ┆ Atenciones Norte.xlsx │\n",
      "└─────────────────┴────────────────┴───────────┴────────────────┴───────────────────────┘\n",
      "shape: (4_425, 5)\n",
      "┌─────────────────┬────────────────┬──────────────────┬────────────────┬─────────────────────┐\n",
      "│ Numero Ticket   ┆ Tipo de Ticket ┆ Proveedor        ┆ Costo Atencion ┆ Nombre Archivo      │\n",
      "│ ---             ┆ ---            ┆ ---              ┆ ---            ┆ ---                 │\n",
      "│ str             ┆ str            ┆ str              ┆ str            ┆ str                 │\n",
      "╞═════════════════╪════════════════╪══════════════════╪════════════════╪═════════════════════╡\n",
      "│ WO0000004149361 ┆ Rechazado      ┆ null             ┆ null           ┆ Atenciones Sur.xlsx │\n",
      "│ WO0000004849382 ┆ Variable       ┆ CIME COMERCIAL   ┆ null           ┆ Atenciones Sur.xlsx │\n",
      "│ WO0000004849382 ┆ Variable       ┆ CIME COMERCIAL   ┆ null           ┆ Atenciones Sur.xlsx │\n",
      "│ WO0000004849382 ┆ Variable       ┆ CIME COMERCIAL   ┆ null           ┆ Atenciones Sur.xlsx │\n",
      "│ WO0000004849382 ┆ Variable       ┆ CIME COMERCIAL   ┆ null           ┆ Atenciones Sur.xlsx │\n",
      "│ …               ┆ …              ┆ …                ┆ …              ┆ …                   │\n",
      "│ WO0000005738348 ┆ Rechazado      ┆ OTROS            ┆ null           ┆ Atenciones Sur.xlsx │\n",
      "│ WO0000005738704 ┆ Variable       ┆ PROSEGUR         ┆ null           ┆ Atenciones Sur.xlsx │\n",
      "│ WO0000005738705 ┆ Variable       ┆ COORPORACION R&M ┆ null           ┆ Atenciones Sur.xlsx │\n",
      "│ WO0000005738715 ┆ Variable       ┆ PROSEGUR         ┆ null           ┆ Atenciones Sur.xlsx │\n",
      "│ WO0000005738721 ┆ Flat           ┆ ACCENTURE        ┆ null           ┆ Atenciones Sur.xlsx │\n",
      "└─────────────────┴────────────────┴──────────────────┴────────────────┴─────────────────────┘\n"
     ]
    }
   ],
   "source": [
    "Atenciones2=pl.DataFrame()\n",
    "\n",
    "for archivo in archivos  :\n",
    "    nombre = str(archivo).split('\\\\')[9]\n",
    "    \n",
    "    auxiliar = pl.read_excel(\n",
    "        source = archivo ,\n",
    "        sheet_name = \"Hoja1\",\n",
    "        engine = \"xlsx2csv\",\n",
    "        read_csv_options={\n",
    "            \"columns\":[\"Numero Ticket\",\"Tipo de Ticket\",\n",
    "                       \"Proveedor\",\"Costo Atencion\"],\n",
    "            \"ignore_errors\":True,\n",
    "            \"dtypes\":[pl.Utf8,pl.Utf8,pl.Utf8,pl.Utf8]\n",
    "        }\n",
    "    )\n",
    "    \n",
    "    auxiliar = auxiliar.with_columns(pl.lit(nombre).alias(\"Nombre Archivo\"))\n",
    "    print(auxiliar)\n",
    "    Atenciones2 = pl.concat([Atenciones2,auxiliar],how=\"vertical\")"
   ]
  },
  {
   "cell_type": "code",
   "execution_count": 29,
   "metadata": {},
   "outputs": [],
   "source": [
    "Atenciones2 = Atenciones2.select(\n",
    "    pl.col(\"Numero Ticket\"),\n",
    "    \"Tipo de Ticket\", \"Proveedor\",\n",
    "    pl.col(\"Costo Atencion\").str.strip_chars()\n",
    "    .str.to_uppercase()\n",
    "    .str.replace_many(['COSTO CERO','SIN COSTO'],\"0\"),\n",
    "    \"Nombre Archivo\"\n",
    "\n",
    ")"
   ]
  },
  {
   "cell_type": "code",
   "execution_count": 30,
   "metadata": {},
   "outputs": [],
   "source": [
    "Atenciones2 = Atenciones2.rename({\"Numero Ticket\":\"TicketID\"})"
   ]
  },
  {
   "cell_type": "code",
   "execution_count": 193,
   "metadata": {},
   "outputs": [
    {
     "data": {
      "text/html": [
       "<div><style>\n",
       ".dataframe > thead > tr,\n",
       ".dataframe > tbody > tr {\n",
       "  text-align: right;\n",
       "  white-space: pre-wrap;\n",
       "}\n",
       "</style>\n",
       "<small>shape: (6_266, 5)</small><table border=\"1\" class=\"dataframe\"><thead><tr><th>TicketID</th><th>Tipo de Ticket</th><th>Proveedor</th><th>Costo Atencion</th><th>Nombre Archivo</th></tr><tr><td>str</td><td>str</td><td>str</td><td>str</td><td>str</td></tr></thead><tbody><tr><td>&quot;WO0000004544943&quot;</td><td>&quot;Rechazado&quot;</td><td>null</td><td>&quot;100&quot;</td><td>&quot;Atenciones Centro.xlsx&quot;</td></tr><tr><td>&quot;WO0000004545246&quot;</td><td>&quot;Rechazado&quot;</td><td>null</td><td>&quot;100&quot;</td><td>&quot;Atenciones Centro.xlsx&quot;</td></tr><tr><td>&quot;WO0000004559125&quot;</td><td>&quot;Rechazado&quot;</td><td>null</td><td>&quot;100&quot;</td><td>&quot;Atenciones Centro.xlsx&quot;</td></tr><tr><td>&quot;WO0000004707477&quot;</td><td>&quot;Rechazado&quot;</td><td>null</td><td>&quot;100&quot;</td><td>&quot;Atenciones Centro.xlsx&quot;</td></tr><tr><td>&quot;WO0000004759976&quot;</td><td>&quot;Rechazado&quot;</td><td>null</td><td>&quot;100&quot;</td><td>&quot;Atenciones Centro.xlsx&quot;</td></tr><tr><td>&quot;WO0000004795876&quot;</td><td>&quot;Rechazado&quot;</td><td>null</td><td>&quot;100&quot;</td><td>&quot;Atenciones Centro.xlsx&quot;</td></tr><tr><td>&quot;WO0000004825300&quot;</td><td>&quot;Rechazado&quot;</td><td>null</td><td>&quot;100&quot;</td><td>&quot;Atenciones Centro.xlsx&quot;</td></tr><tr><td>&quot;WO0000004853680&quot;</td><td>&quot;Flat&quot;</td><td>&quot;ACCENTURE&quot;</td><td>&quot;100&quot;</td><td>&quot;Atenciones Centro.xlsx&quot;</td></tr><tr><td>&quot;WO0000004925389&quot;</td><td>&quot;Flat&quot;</td><td>&quot;ACCENTURE&quot;</td><td>&quot;100&quot;</td><td>&quot;Atenciones Centro.xlsx&quot;</td></tr><tr><td>&quot;WO0000005024904&quot;</td><td>&quot;Flat&quot;</td><td>&quot;ACCENTURE&quot;</td><td>&quot;100&quot;</td><td>&quot;Atenciones Centro.xlsx&quot;</td></tr><tr><td>&quot;WO0000005024973&quot;</td><td>&quot;Flat&quot;</td><td>&quot;ACCENTURE&quot;</td><td>&quot;100&quot;</td><td>&quot;Atenciones Centro.xlsx&quot;</td></tr><tr><td>&quot;WO0000005064089&quot;</td><td>&quot;Flat&quot;</td><td>&quot;ACCENTURE&quot;</td><td>&quot;100&quot;</td><td>&quot;Atenciones Centro.xlsx&quot;</td></tr><tr><td>&hellip;</td><td>&hellip;</td><td>&hellip;</td><td>&hellip;</td><td>&hellip;</td></tr><tr><td>&quot;WO0000005730406&quot;</td><td>&quot;Variable&quot;</td><td>&quot;CECHRIZA&quot;</td><td>&quot;0&quot;</td><td>&quot;Atenciones Sur.xlsx&quot;</td></tr><tr><td>&quot;WO0000005730455&quot;</td><td>&quot;Variable&quot;</td><td>&quot;JGM IMPORT&quot;</td><td>&quot;200.6&quot;</td><td>&quot;Atenciones Sur.xlsx&quot;</td></tr><tr><td>&quot;WO0000005731335&quot;</td><td>&quot;Variable&quot;</td><td>&quot;CECHRIZA&quot;</td><td>&quot;59&quot;</td><td>&quot;Atenciones Sur.xlsx&quot;</td></tr><tr><td>&quot;WO0000005731337&quot;</td><td>&quot;Variable&quot;</td><td>&quot;CECHRIZA&quot;</td><td>&quot;59&quot;</td><td>&quot;Atenciones Sur.xlsx&quot;</td></tr><tr><td>&quot;WO0000005731338&quot;</td><td>&quot;Variable&quot;</td><td>&quot;CECHRIZA&quot;</td><td>&quot;59&quot;</td><td>&quot;Atenciones Sur.xlsx&quot;</td></tr><tr><td>&quot;WO0000005731349&quot;</td><td>&quot;Flat&quot;</td><td>&quot;ACCENTURE&quot;</td><td>&quot;0&quot;</td><td>&quot;Atenciones Sur.xlsx&quot;</td></tr><tr><td>&quot;WO0000005731737&quot;</td><td>&quot;Variable&quot;</td><td>&quot;CECHRIZA&quot;</td><td>&quot;901.96&quot;</td><td>&quot;Atenciones Sur.xlsx&quot;</td></tr><tr><td>&quot;WO0000005731747&quot;</td><td>&quot;Variable&quot;</td><td>&quot;CECHRIZA&quot;</td><td>&quot;2083.4299999999998&quot;</td><td>&quot;Atenciones Sur.xlsx&quot;</td></tr><tr><td>&quot;WO0000005733751&quot;</td><td>&quot;Variable&quot;</td><td>&quot;CECHRIZA&quot;</td><td>&quot;59&quot;</td><td>&quot;Atenciones Sur.xlsx&quot;</td></tr><tr><td>&quot;WO0000005734101&quot;</td><td>&quot;Flat&quot;</td><td>&quot;ACCENTURE&quot;</td><td>&quot;0&quot;</td><td>&quot;Atenciones Sur.xlsx&quot;</td></tr><tr><td>&quot;WO0000005734524&quot;</td><td>&quot;Flat&quot;</td><td>&quot;ACCENTURE&quot;</td><td>&quot;0&quot;</td><td>&quot;Atenciones Sur.xlsx&quot;</td></tr><tr><td>&quot;WO0000005735276&quot;</td><td>&quot;Variable&quot;</td><td>&quot;TRAZAIDEA&quot;</td><td>&quot;404.74&quot;</td><td>&quot;Atenciones Sur.xlsx&quot;</td></tr></tbody></table></div>"
      ],
      "text/plain": [
       "shape: (6_266, 5)\n",
       "┌─────────────────┬────────────────┬───────────┬────────────────────┬────────────────────────┐\n",
       "│ TicketID        ┆ Tipo de Ticket ┆ Proveedor ┆ Costo Atencion     ┆ Nombre Archivo         │\n",
       "│ ---             ┆ ---            ┆ ---       ┆ ---                ┆ ---                    │\n",
       "│ str             ┆ str            ┆ str       ┆ str                ┆ str                    │\n",
       "╞═════════════════╪════════════════╪═══════════╪════════════════════╪════════════════════════╡\n",
       "│ WO0000004544943 ┆ Rechazado      ┆ null      ┆ 100                ┆ Atenciones Centro.xlsx │\n",
       "│ WO0000004545246 ┆ Rechazado      ┆ null      ┆ 100                ┆ Atenciones Centro.xlsx │\n",
       "│ WO0000004559125 ┆ Rechazado      ┆ null      ┆ 100                ┆ Atenciones Centro.xlsx │\n",
       "│ WO0000004707477 ┆ Rechazado      ┆ null      ┆ 100                ┆ Atenciones Centro.xlsx │\n",
       "│ WO0000004759976 ┆ Rechazado      ┆ null      ┆ 100                ┆ Atenciones Centro.xlsx │\n",
       "│ …               ┆ …              ┆ …         ┆ …                  ┆ …                      │\n",
       "│ WO0000005731747 ┆ Variable       ┆ CECHRIZA  ┆ 2083.4299999999998 ┆ Atenciones Sur.xlsx    │\n",
       "│ WO0000005733751 ┆ Variable       ┆ CECHRIZA  ┆ 59                 ┆ Atenciones Sur.xlsx    │\n",
       "│ WO0000005734101 ┆ Flat           ┆ ACCENTURE ┆ 0                  ┆ Atenciones Sur.xlsx    │\n",
       "│ WO0000005734524 ┆ Flat           ┆ ACCENTURE ┆ 0                  ┆ Atenciones Sur.xlsx    │\n",
       "│ WO0000005735276 ┆ Variable       ┆ TRAZAIDEA ┆ 404.74             ┆ Atenciones Sur.xlsx    │\n",
       "└─────────────────┴────────────────┴───────────┴────────────────────┴────────────────────────┘"
      ]
     },
     "execution_count": 193,
     "metadata": {},
     "output_type": "execute_result"
    }
   ],
   "source": [
    "Atenciones2.filter(\n",
    "    ~pl.col(\"Costo Atencion\").is_null()\n",
    ")"
   ]
  },
  {
   "cell_type": "code",
   "execution_count": 31,
   "metadata": {},
   "outputs": [],
   "source": [
    "Atenciones2 = Atenciones2.with_columns(\n",
    "    pl.col(\"Costo Atencion\").map_elements(convertir_decimal)\n",
    ")"
   ]
  },
  {
   "cell_type": "code",
   "execution_count": 35,
   "metadata": {},
   "outputs": [
    {
     "data": {
      "text/html": [
       "<div><style>\n",
       ".dataframe > thead > tr,\n",
       ".dataframe > tbody > tr {\n",
       "  text-align: right;\n",
       "  white-space: pre-wrap;\n",
       "}\n",
       "</style>\n",
       "<small>shape: (3, 1)</small><table border=\"1\" class=\"dataframe\"><thead><tr><th>Nombre Archivo</th></tr><tr><td>str</td></tr></thead><tbody><tr><td>&quot;Atenciones Norte.xlsx&quot;</td></tr><tr><td>&quot;Atenciones Sur.xlsx&quot;</td></tr><tr><td>&quot;Atenciones Centro.xlsx&quot;</td></tr></tbody></table></div>"
      ],
      "text/plain": [
       "shape: (3, 1)\n",
       "┌────────────────────────┐\n",
       "│ Nombre Archivo         │\n",
       "│ ---                    │\n",
       "│ str                    │\n",
       "╞════════════════════════╡\n",
       "│ Atenciones Norte.xlsx  │\n",
       "│ Atenciones Sur.xlsx    │\n",
       "│ Atenciones Centro.xlsx │\n",
       "└────────────────────────┘"
      ]
     },
     "execution_count": 35,
     "metadata": {},
     "output_type": "execute_result"
    }
   ],
   "source": [
    "Atenciones2.select(pl.col(\"Nombre Archivo\")).unique()"
   ]
  },
  {
   "cell_type": "markdown",
   "metadata": {},
   "source": [
    "### combinar resultados"
   ]
  },
  {
   "cell_type": "code",
   "execution_count": 196,
   "metadata": {},
   "outputs": [
    {
     "data": {
      "text/html": [
       "<div><style>\n",
       ".dataframe > thead > tr,\n",
       ".dataframe > tbody > tr {\n",
       "  text-align: right;\n",
       "  white-space: pre-wrap;\n",
       "}\n",
       "</style>\n",
       "<small>shape: (5, 12)</small><table border=\"1\" class=\"dataframe\"><thead><tr><th>TicketID</th><th>Ubicacion</th><th>Service Desk</th><th>Estado</th><th>Fecha Creacion</th><th>Fecha Termino</th><th>Fecha Cierre</th><th>Agencia_nombre</th><th>Agencia_cod</th><th>Fecha Real Fin</th><th>Dias Cierre</th><th>Grupo Dias</th></tr><tr><td>str</td><td>str</td><td>str</td><td>str</td><td>date</td><td>date</td><td>date</td><td>str</td><td>i64</td><td>date</td><td>i64</td><td>str</td></tr></thead><tbody><tr><td>&quot;OT0000004849379&quot;</td><td>&quot;NAYLAMP - 191143&quot;</td><td>&quot;Zona Centro&quot;</td><td>&quot;Cerrado&quot;</td><td>2022-12-31</td><td>2023-01-25</td><td>2023-01-25</td><td>&quot;NAYLAMP&quot;</td><td>191143</td><td>2023-01-25</td><td>25</td><td>&quot;Mayor a 15 dias&quot;</td></tr><tr><td>&quot;OT0000004849382&quot;</td><td>&quot;LOS DAMASCOS - 193038&quot;</td><td>&quot;Zona Sur&quot;</td><td>&quot;Cerrado&quot;</td><td>2022-12-31</td><td>2023-01-04</td><td>2023-01-04</td><td>&quot;LOS DAMASCOS&quot;</td><td>193038</td><td>2023-01-04</td><td>4</td><td>&quot;4 a 7 dias&quot;</td></tr><tr><td>&quot;OT0000004849726&quot;</td><td>&quot;LUREN - 380004&quot;</td><td>&quot;Zona Sur&quot;</td><td>&quot;Cerrado&quot;</td><td>2022-12-31</td><td>2023-01-02</td><td>2023-01-02</td><td>&quot;LUREN&quot;</td><td>380004</td><td>2023-01-02</td><td>2</td><td>&quot;0 a 3 dias&quot;</td></tr><tr><td>&quot;OT0000004849732&quot;</td><td>&quot;EL PINO - 191087&quot;</td><td>&quot;Zona Centro&quot;</td><td>&quot;Cerrado&quot;</td><td>2022-12-31</td><td>2023-01-06</td><td>2023-01-06</td><td>&quot;EL PINO&quot;</td><td>191087</td><td>2023-01-06</td><td>6</td><td>&quot;4 a 7 dias&quot;</td></tr><tr><td>&quot;SA0000004849307&quot;</td><td>&quot;TUSILAGOS - 191108&quot;</td><td>&quot;Zona Centro&quot;</td><td>&quot;Rechazado&quot;</td><td>2022-12-31</td><td>null</td><td>null</td><td>&quot;TUSILAGOS&quot;</td><td>191108</td><td>null</td><td>null</td><td>null</td></tr></tbody></table></div>"
      ],
      "text/plain": [
       "shape: (5, 12)\n",
       "┌───────────┬───────────┬───────────┬───────────┬───┬───────────┬───────────┬───────────┬──────────┐\n",
       "│ TicketID  ┆ Ubicacion ┆ Service   ┆ Estado    ┆ … ┆ Agencia_c ┆ Fecha     ┆ Dias      ┆ Grupo    │\n",
       "│ ---       ┆ ---       ┆ Desk      ┆ ---       ┆   ┆ od        ┆ Real Fin  ┆ Cierre    ┆ Dias     │\n",
       "│ str       ┆ str       ┆ ---       ┆ str       ┆   ┆ ---       ┆ ---       ┆ ---       ┆ ---      │\n",
       "│           ┆           ┆ str       ┆           ┆   ┆ i64       ┆ date      ┆ i64       ┆ str      │\n",
       "╞═══════════╪═══════════╪═══════════╪═══════════╪═══╪═══════════╪═══════════╪═══════════╪══════════╡\n",
       "│ OT0000004 ┆ NAYLAMP - ┆ Zona      ┆ Cerrado   ┆ … ┆ 191143    ┆ 2023-01-2 ┆ 25        ┆ Mayor a  │\n",
       "│ 849379    ┆ 191143    ┆ Centro    ┆           ┆   ┆           ┆ 5         ┆           ┆ 15 dias  │\n",
       "│ OT0000004 ┆ LOS       ┆ Zona Sur  ┆ Cerrado   ┆ … ┆ 193038    ┆ 2023-01-0 ┆ 4         ┆ 4 a 7    │\n",
       "│ 849382    ┆ DAMASCOS  ┆           ┆           ┆   ┆           ┆ 4         ┆           ┆ dias     │\n",
       "│           ┆ - 193038  ┆           ┆           ┆   ┆           ┆           ┆           ┆          │\n",
       "│ OT0000004 ┆ LUREN -   ┆ Zona Sur  ┆ Cerrado   ┆ … ┆ 380004    ┆ 2023-01-0 ┆ 2         ┆ 0 a 3    │\n",
       "│ 849726    ┆ 380004    ┆           ┆           ┆   ┆           ┆ 2         ┆           ┆ dias     │\n",
       "│ OT0000004 ┆ EL PINO - ┆ Zona      ┆ Cerrado   ┆ … ┆ 191087    ┆ 2023-01-0 ┆ 6         ┆ 4 a 7    │\n",
       "│ 849732    ┆ 191087    ┆ Centro    ┆           ┆   ┆           ┆ 6         ┆           ┆ dias     │\n",
       "│ SA0000004 ┆ TUSILAGOS ┆ Zona      ┆ Rechazado ┆ … ┆ 191108    ┆ null      ┆ null      ┆ null     │\n",
       "│ 849307    ┆ - 191108  ┆ Centro    ┆           ┆   ┆           ┆           ┆           ┆          │\n",
       "└───────────┴───────────┴───────────┴───────────┴───┴───────────┴───────────┴───────────┴──────────┘"
      ]
     },
     "execution_count": 196,
     "metadata": {},
     "output_type": "execute_result"
    }
   ],
   "source": [
    "tickets.head(\n",
    ")"
   ]
  },
  {
   "cell_type": "code",
   "execution_count": 36,
   "metadata": {},
   "outputs": [
    {
     "data": {
      "text/html": [
       "<div><style>\n",
       ".dataframe > thead > tr,\n",
       ".dataframe > tbody > tr {\n",
       "  text-align: right;\n",
       "  white-space: pre-wrap;\n",
       "}\n",
       "</style>\n",
       "<small>shape: (5, 5)</small><table border=\"1\" class=\"dataframe\"><thead><tr><th>TicketID</th><th>Tipo de Ticket</th><th>Proveedor</th><th>Costo Atencion</th><th>Nombre Archivo</th></tr><tr><td>str</td><td>str</td><td>str</td><td>f64</td><td>str</td></tr></thead><tbody><tr><td>&quot;WO0000005584689&quot;</td><td>&quot;Variable&quot;</td><td>&quot;MR EXPRESS&quot;</td><td>null</td><td>&quot;Atenciones Centro.xlsx&quot;</td></tr><tr><td>&quot;WO0000004544943&quot;</td><td>&quot;Rechazado&quot;</td><td>null</td><td>100.0</td><td>&quot;Atenciones Centro.xlsx&quot;</td></tr><tr><td>&quot;WO0000004545246&quot;</td><td>&quot;Rechazado&quot;</td><td>null</td><td>100.0</td><td>&quot;Atenciones Centro.xlsx&quot;</td></tr><tr><td>&quot;WO0000004559125&quot;</td><td>&quot;Rechazado&quot;</td><td>null</td><td>100.0</td><td>&quot;Atenciones Centro.xlsx&quot;</td></tr><tr><td>&quot;WO0000004707477&quot;</td><td>&quot;Rechazado&quot;</td><td>null</td><td>100.0</td><td>&quot;Atenciones Centro.xlsx&quot;</td></tr></tbody></table></div>"
      ],
      "text/plain": [
       "shape: (5, 5)\n",
       "┌─────────────────┬────────────────┬────────────┬────────────────┬────────────────────────┐\n",
       "│ TicketID        ┆ Tipo de Ticket ┆ Proveedor  ┆ Costo Atencion ┆ Nombre Archivo         │\n",
       "│ ---             ┆ ---            ┆ ---        ┆ ---            ┆ ---                    │\n",
       "│ str             ┆ str            ┆ str        ┆ f64            ┆ str                    │\n",
       "╞═════════════════╪════════════════╪════════════╪════════════════╪════════════════════════╡\n",
       "│ WO0000005584689 ┆ Variable       ┆ MR EXPRESS ┆ null           ┆ Atenciones Centro.xlsx │\n",
       "│ WO0000004544943 ┆ Rechazado      ┆ null       ┆ 100.0          ┆ Atenciones Centro.xlsx │\n",
       "│ WO0000004545246 ┆ Rechazado      ┆ null       ┆ 100.0          ┆ Atenciones Centro.xlsx │\n",
       "│ WO0000004559125 ┆ Rechazado      ┆ null       ┆ 100.0          ┆ Atenciones Centro.xlsx │\n",
       "│ WO0000004707477 ┆ Rechazado      ┆ null       ┆ 100.0          ┆ Atenciones Centro.xlsx │\n",
       "└─────────────────┴────────────────┴────────────┴────────────────┴────────────────────────┘"
      ]
     },
     "execution_count": 36,
     "metadata": {},
     "output_type": "execute_result"
    }
   ],
   "source": [
    "Atenciones2.head()"
   ]
  },
  {
   "cell_type": "code",
   "execution_count": 32,
   "metadata": {},
   "outputs": [],
   "source": [
    "Resultados = tickets.join(Atenciones2,\n",
    "             on =\"TicketID\",\n",
    "             how=\"inner\",\n",
    "             validate=\"1:m\").select(\n",
    "                 \"TicketID\",\"Agencia_cod\",\"Agencia_nombre\",\n",
    "                 \"Service Desk\",\"Estado\",\n",
    "                 pl.col(\"Fecha Creacion\").dt.strftime('%d/%m/%Y'),\n",
    "                 pl.col(\"Fecha Real Fin\").dt.strftime('%d/%m/%Y')\n",
    "                 ,\"Grupo Dias\",\"Tipo de Ticket\",\n",
    "                 pl.col(\"Costo Atencion\").round(2)\n",
    "             ).rename({\"Fecha Real Fin\":\"Fecha Cierre\",\"Tipo de Ticket\":\"Tipo Ticket\",\"Costo Atencion\":\"Costo\"})"
   ]
  },
  {
   "cell_type": "code",
   "execution_count": 33,
   "metadata": {},
   "outputs": [
    {
     "data": {
      "text/plain": [
       "<xlsxwriter.workbook.Workbook at 0x25aec3d55d0>"
      ]
     },
     "execution_count": 33,
     "metadata": {},
     "output_type": "execute_result"
    }
   ],
   "source": [
    "### exportar a un excel\n",
    "Resultados.write_excel(\n",
    "    workbook=\"Resultado_entrega.xlsx\",\n",
    "    worksheet=\"Entrega1\",\n",
    "    position=\"A2\",\n",
    "    table_style=\"Table Style Light 16\",\n",
    "    dtype_formats={pl.Date: \"mm/dd/yyyy\"},\n",
    "    float_precision=2,\n",
    "\n",
    ")\n"
   ]
  }
 ],
 "metadata": {
  "kernelspec": {
   "display_name": "ambiente1",
   "language": "python",
   "name": "ambiente1"
  },
  "language_info": {
   "codemirror_mode": {
    "name": "ipython",
    "version": 3
   },
   "file_extension": ".py",
   "mimetype": "text/x-python",
   "name": "python",
   "nbconvert_exporter": "python",
   "pygments_lexer": "ipython3",
   "version": "3.11.8"
  }
 },
 "nbformat": 4,
 "nbformat_minor": 2
}
