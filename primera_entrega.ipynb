{
 "cells": [
  {
   "cell_type": "code",
   "execution_count": 1,
   "metadata": {},
   "outputs": [],
   "source": [
    "import polars as pl\n",
    "import xlsx2csv as xl\n",
    "from polars import Config"
   ]
  },
  {
   "cell_type": "code",
   "execution_count": 2,
   "metadata": {},
   "outputs": [
    {
     "data": {
      "text/plain": [
       "polars.config.Config"
      ]
     },
     "execution_count": 2,
     "metadata": {},
     "output_type": "execute_result"
    }
   ],
   "source": [
    "Config.set_fmt_str_lengths(150)"
   ]
  },
  {
   "cell_type": "markdown",
   "metadata": {},
   "source": [
    "##### Voy a leer el archivo del pd"
   ]
  },
  {
   "cell_type": "code",
   "execution_count": 3,
   "metadata": {},
   "outputs": [
    {
     "data": {
      "text/html": [
       "<div><style>\n",
       ".dataframe > thead > tr,\n",
       ".dataframe > tbody > tr {\n",
       "  text-align: right;\n",
       "  white-space: pre-wrap;\n",
       "}\n",
       "</style>\n",
       "<small>shape: (10, 7)</small><table border=\"1\" class=\"dataframe\"><thead><tr><th>TicketID</th><th>Ubicacion</th><th>Service Desk</th><th>Estado</th><th>Fecha Creacion</th><th>Fecha Termino</th><th>Fecha Cierre</th></tr><tr><td>str</td><td>str</td><td>str</td><td>str</td><td>str</td><td>str</td><td>str</td></tr></thead><tbody><tr><td>&quot;WO0000004122687&quot;</td><td>&quot;AREQUIPA - 215000&quot;</td><td>&quot;Zona Norte&quot;</td><td>&quot;Cerrado&quot;</td><td>&quot;2022-06-01&quot;</td><td>&quot;2022-06-14&quot;</td><td>&quot;2022-06-14&quot;</td></tr><tr><td>&quot;WO0000004122649&quot;</td><td>&quot;METRO AV. WIESSE - 191106&quot;</td><td>&quot;Zona Centro&quot;</td><td>&quot;Cerrado&quot;</td><td>&quot;2022-06-01&quot;</td><td>&quot;2022-06-17&quot;</td><td>&quot;2022-06-17&quot;</td></tr><tr><td>&quot;WO0000004122502&quot;</td><td>&quot;NICOLAS AYLLON - 191027&quot;</td><td>&quot;Zona Centro&quot;</td><td>&quot;Cerrado&quot;</td><td>&quot;2022-06-01&quot;</td><td>&quot;2022-06-08&quot;</td><td>&quot;2022-06-08&quot;</td></tr><tr><td>&quot;WO0000004122513&quot;</td><td>&quot;JAUREGUI - 405005&quot;</td><td>&quot;Zona Norte&quot;</td><td>&quot;Cerrado&quot;</td><td>&quot;2022-06-01&quot;</td><td>&quot;2022-06-18&quot;</td><td>&quot;2022-06-18&quot;</td></tr><tr><td>&quot;WO0000004122741&quot;</td><td>&quot;CANTO GRANDE - 191096&quot;</td><td>&quot;Zona Centro&quot;</td><td>&quot;Cerrado&quot;</td><td>&quot;2022-06-01&quot;</td><td>&quot;2022-06-08&quot;</td><td>&quot;2022-06-08&quot;</td></tr><tr><td>&quot;WO0000004122511&quot;</td><td>&quot;CHIMPU OCLLO - 191113&quot;</td><td>&quot;Zona Centro&quot;</td><td>&quot;Cerrado&quot;</td><td>&quot;2022-06-01&quot;</td><td>&quot;2022-06-03&quot;</td><td>&quot;2022-06-03&quot;</td></tr><tr><td>&quot;WO0000004122522&quot;</td><td>&quot;MINI AGENCIA BCP SALAMANCA - 191090&quot;</td><td>&quot;Zona Centro&quot;</td><td>&quot;Cerrado&quot;</td><td>&quot;2022-06-01&quot;</td><td>&quot;2022-06-07&quot;</td><td>&quot;2022-06-07&quot;</td></tr><tr><td>&quot;WO0000004122302&quot;</td><td>&quot;IMPERIAL - 255001&quot;</td><td>&quot;Zona Norte&quot;</td><td>&quot;Cerrado&quot;</td><td>&quot;2022-06-01&quot;</td><td>&quot;2022-06-10&quot;</td><td>&quot;2022-06-10&quot;</td></tr><tr><td>&quot;WO0000004122360&quot;</td><td>&quot;AREQUIPA - 215000&quot;</td><td>&quot;Zona Norte&quot;</td><td>&quot;Cerrado&quot;</td><td>&quot;2022-06-01&quot;</td><td>&quot;2022-06-13&quot;</td><td>&quot;2022-06-13&quot;</td></tr><tr><td>&quot;WO0000004122688&quot;</td><td>&quot;AREQUIPA - 215000&quot;</td><td>&quot;Zona Norte&quot;</td><td>&quot;Cerrado&quot;</td><td>&quot;2022-06-01&quot;</td><td>&quot;2022-06-17&quot;</td><td>&quot;2022-06-17&quot;</td></tr></tbody></table></div>"
      ],
      "text/plain": [
       "shape: (10, 7)\n",
       "┌──────────────┬──────────────┬──────────────┬─────────┬──────────────┬──────────────┬─────────────┐\n",
       "│ TicketID     ┆ Ubicacion    ┆ Service Desk ┆ Estado  ┆ Fecha        ┆ Fecha        ┆ Fecha       │\n",
       "│ ---          ┆ ---          ┆ ---          ┆ ---     ┆ Creacion     ┆ Termino      ┆ Cierre      │\n",
       "│ str          ┆ str          ┆ str          ┆ str     ┆ ---          ┆ ---          ┆ ---         │\n",
       "│              ┆              ┆              ┆         ┆ str          ┆ str          ┆ str         │\n",
       "╞══════════════╪══════════════╪══════════════╪═════════╪══════════════╪══════════════╪═════════════╡\n",
       "│ WO0000004122 ┆ AREQUIPA -   ┆ Zona Norte   ┆ Cerrado ┆ 2022-06-01   ┆ 2022-06-14   ┆ 2022-06-14  │\n",
       "│ 687          ┆ 215000       ┆              ┆         ┆              ┆              ┆             │\n",
       "│ WO0000004122 ┆ METRO AV.    ┆ Zona Centro  ┆ Cerrado ┆ 2022-06-01   ┆ 2022-06-17   ┆ 2022-06-17  │\n",
       "│ 649          ┆ WIESSE -     ┆              ┆         ┆              ┆              ┆             │\n",
       "│              ┆ 191106       ┆              ┆         ┆              ┆              ┆             │\n",
       "│ WO0000004122 ┆ NICOLAS      ┆ Zona Centro  ┆ Cerrado ┆ 2022-06-01   ┆ 2022-06-08   ┆ 2022-06-08  │\n",
       "│ 502          ┆ AYLLON -     ┆              ┆         ┆              ┆              ┆             │\n",
       "│              ┆ 191027       ┆              ┆         ┆              ┆              ┆             │\n",
       "│ WO0000004122 ┆ JAUREGUI -   ┆ Zona Norte   ┆ Cerrado ┆ 2022-06-01   ┆ 2022-06-18   ┆ 2022-06-18  │\n",
       "│ 513          ┆ 405005       ┆              ┆         ┆              ┆              ┆             │\n",
       "│ WO0000004122 ┆ CANTO GRANDE ┆ Zona Centro  ┆ Cerrado ┆ 2022-06-01   ┆ 2022-06-08   ┆ 2022-06-08  │\n",
       "│ 741          ┆ - 191096     ┆              ┆         ┆              ┆              ┆             │\n",
       "│ WO0000004122 ┆ CHIMPU OCLLO ┆ Zona Centro  ┆ Cerrado ┆ 2022-06-01   ┆ 2022-06-03   ┆ 2022-06-03  │\n",
       "│ 511          ┆ - 191113     ┆              ┆         ┆              ┆              ┆             │\n",
       "│ WO0000004122 ┆ MINI AGENCIA ┆ Zona Centro  ┆ Cerrado ┆ 2022-06-01   ┆ 2022-06-07   ┆ 2022-06-07  │\n",
       "│ 522          ┆ BCP          ┆              ┆         ┆              ┆              ┆             │\n",
       "│              ┆ SALAMANCA -  ┆              ┆         ┆              ┆              ┆             │\n",
       "│              ┆ 191090       ┆              ┆         ┆              ┆              ┆             │\n",
       "│ WO0000004122 ┆ IMPERIAL -   ┆ Zona Norte   ┆ Cerrado ┆ 2022-06-01   ┆ 2022-06-10   ┆ 2022-06-10  │\n",
       "│ 302          ┆ 255001       ┆              ┆         ┆              ┆              ┆             │\n",
       "│ WO0000004122 ┆ AREQUIPA -   ┆ Zona Norte   ┆ Cerrado ┆ 2022-06-01   ┆ 2022-06-13   ┆ 2022-06-13  │\n",
       "│ 360          ┆ 215000       ┆              ┆         ┆              ┆              ┆             │\n",
       "│ WO0000004122 ┆ AREQUIPA -   ┆ Zona Norte   ┆ Cerrado ┆ 2022-06-01   ┆ 2022-06-17   ┆ 2022-06-17  │\n",
       "│ 688          ┆ 215000       ┆              ┆         ┆              ┆              ┆             │\n",
       "└──────────────┴──────────────┴──────────────┴─────────┴──────────────┴──────────────┴─────────────┘"
      ]
     },
     "execution_count": 3,
     "metadata": {},
     "output_type": "execute_result"
    }
   ],
   "source": [
    "data_tickets_hist = pl.read_csv('./Materiales/Tickets/Tickets Historico.txt',\n",
    "                                separator=\";\",\n",
    "                                columns= [\"Numero Ticket\",\"Ubicacion\",\"Service Desk\",\n",
    "                                          \"Estado\",\"Fecha Creacion\",\"Fecha Termino\",\n",
    "                                          \"Fecha Cierre\"]).rename({\"Numero Ticket\": \"TicketID\"})\n",
    "data_tickets_hist.head(10)"
   ]
  },
  {
   "cell_type": "code",
   "execution_count": 4,
   "metadata": {},
   "outputs": [
    {
     "data": {
      "text/html": [
       "<div><style>\n",
       ".dataframe > thead > tr,\n",
       ".dataframe > tbody > tr {\n",
       "  text-align: right;\n",
       "  white-space: pre-wrap;\n",
       "}\n",
       "</style>\n",
       "<small>shape: (9_206, 7)</small><table border=\"1\" class=\"dataframe\"><thead><tr><th>TicketID</th><th>Ubicacion</th><th>Service Desk</th><th>Estado</th><th>Fecha Creacion</th><th>Fecha Termino</th><th>Fecha Cierre</th></tr><tr><td>str</td><td>str</td><td>str</td><td>str</td><td>date</td><td>date</td><td>date</td></tr></thead><tbody><tr><td>&quot;WO0000004122687&quot;</td><td>&quot;AREQUIPA - 215000&quot;</td><td>&quot;Zona Norte&quot;</td><td>&quot;Cerrado&quot;</td><td>2022-06-01</td><td>2022-06-14</td><td>2022-06-14</td></tr><tr><td>&quot;WO0000004122649&quot;</td><td>&quot;METRO AV. WIESSE - 191106&quot;</td><td>&quot;Zona Centro&quot;</td><td>&quot;Cerrado&quot;</td><td>2022-06-01</td><td>2022-06-17</td><td>2022-06-17</td></tr><tr><td>&quot;WO0000004122502&quot;</td><td>&quot;NICOLAS AYLLON - 191027&quot;</td><td>&quot;Zona Centro&quot;</td><td>&quot;Cerrado&quot;</td><td>2022-06-01</td><td>2022-06-08</td><td>2022-06-08</td></tr><tr><td>&quot;WO0000004122513&quot;</td><td>&quot;JAUREGUI - 405005&quot;</td><td>&quot;Zona Norte&quot;</td><td>&quot;Cerrado&quot;</td><td>2022-06-01</td><td>2022-06-18</td><td>2022-06-18</td></tr><tr><td>&quot;WO0000004122741&quot;</td><td>&quot;CANTO GRANDE - 191096&quot;</td><td>&quot;Zona Centro&quot;</td><td>&quot;Cerrado&quot;</td><td>2022-06-01</td><td>2022-06-08</td><td>2022-06-08</td></tr><tr><td>&quot;WO0000004122511&quot;</td><td>&quot;CHIMPU OCLLO - 191113&quot;</td><td>&quot;Zona Centro&quot;</td><td>&quot;Cerrado&quot;</td><td>2022-06-01</td><td>2022-06-03</td><td>2022-06-03</td></tr><tr><td>&quot;WO0000004122522&quot;</td><td>&quot;MINI AGENCIA BCP SALAMANCA - 191090&quot;</td><td>&quot;Zona Centro&quot;</td><td>&quot;Cerrado&quot;</td><td>2022-06-01</td><td>2022-06-07</td><td>2022-06-07</td></tr><tr><td>&quot;WO0000004122302&quot;</td><td>&quot;IMPERIAL - 255001&quot;</td><td>&quot;Zona Norte&quot;</td><td>&quot;Cerrado&quot;</td><td>2022-06-01</td><td>2022-06-10</td><td>2022-06-10</td></tr><tr><td>&quot;WO0000004122360&quot;</td><td>&quot;AREQUIPA - 215000&quot;</td><td>&quot;Zona Norte&quot;</td><td>&quot;Cerrado&quot;</td><td>2022-06-01</td><td>2022-06-13</td><td>2022-06-13</td></tr><tr><td>&quot;WO0000004122688&quot;</td><td>&quot;AREQUIPA - 215000&quot;</td><td>&quot;Zona Norte&quot;</td><td>&quot;Cerrado&quot;</td><td>2022-06-01</td><td>2022-06-17</td><td>2022-06-17</td></tr><tr><td>&quot;WO0000004122303&quot;</td><td>&quot;IMPERIAL - 255001&quot;</td><td>&quot;Zona Norte&quot;</td><td>&quot;Cerrado&quot;</td><td>2022-06-01</td><td>2022-06-17</td><td>2022-06-17</td></tr><tr><td>&quot;WO0000004122726&quot;</td><td>&quot;LA SALLE - 191114&quot;</td><td>&quot;Zona Centro&quot;</td><td>&quot;Cerrado&quot;</td><td>2022-06-01</td><td>2022-06-07</td><td>2022-06-07</td></tr><tr><td>&hellip;</td><td>&hellip;</td><td>&hellip;</td><td>&hellip;</td><td>&hellip;</td><td>&hellip;</td><td>&hellip;</td></tr><tr><td>&quot;WO0000004849382&quot;</td><td>&quot;LOS DAMASCOS - 193038&quot;</td><td>&quot;Zona Sur&quot;</td><td>&quot;Cerrado&quot;</td><td>2022-12-31</td><td>2023-01-04</td><td>2023-01-07</td></tr><tr><td>&quot;WO0000004849307&quot;</td><td>&quot;TUSILAGOS - 191108&quot;</td><td>&quot;Zona Centro&quot;</td><td>&quot;Rechazado&quot;</td><td>2022-12-31</td><td>null</td><td>null</td></tr><tr><td>&quot;WO0000004849379&quot;</td><td>&quot;NAYLAMP - 191143&quot;</td><td>&quot;Zona Centro&quot;</td><td>&quot;Cerrado&quot;</td><td>2022-12-31</td><td>2023-01-25</td><td>2023-01-28</td></tr><tr><td>&quot;WO0000004849726&quot;</td><td>&quot;LUREN - 380004&quot;</td><td>&quot;Zona Sur&quot;</td><td>&quot;Cerrado&quot;</td><td>2022-12-31</td><td>2023-01-02</td><td>2023-01-05</td></tr><tr><td>&quot;WO0000004849718&quot;</td><td>&quot;AREQUIPA - 215000&quot;</td><td>&quot;Zona Norte&quot;</td><td>&quot;Rechazado&quot;</td><td>2022-12-31</td><td>null</td><td>null</td></tr><tr><td>&quot;WO0000004849721&quot;</td><td>&quot;LUREN - 380004&quot;</td><td>&quot;Zona Sur&quot;</td><td>&quot;Cerrado&quot;</td><td>2022-12-31</td><td>2023-01-02</td><td>2023-01-05</td></tr><tr><td>&quot;WO0000004849330&quot;</td><td>&quot;IMPERIAL - 255001&quot;</td><td>&quot;Zona Centro&quot;</td><td>&quot;Cerrado&quot;</td><td>2022-12-31</td><td>2023-01-14</td><td>2023-01-17</td></tr><tr><td>&quot;WO0000004848619&quot;</td><td>&quot;ILO - 385000&quot;</td><td>&quot;Zona Norte&quot;</td><td>&quot;Cerrado&quot;</td><td>2022-12-31</td><td>2023-01-09</td><td>2023-01-12</td></tr><tr><td>&quot;WO0000004848666&quot;</td><td>&quot;QUILCA - 191160&quot;</td><td>&quot;Zona Centro&quot;</td><td>&quot;Cerrado&quot;</td><td>2022-12-31</td><td>2023-01-04</td><td>2023-01-07</td></tr><tr><td>&quot;WO0000004848654&quot;</td><td>&quot;MERCADO DE FRUTAS - 191064&quot;</td><td>&quot;Zona Centro&quot;</td><td>&quot;Cerrado&quot;</td><td>2022-12-31</td><td>2023-01-13</td><td>2023-01-16</td></tr><tr><td>&quot;WO0000004849355&quot;</td><td>&quot;VITARTE - 191043&quot;</td><td>&quot;Zona Centro&quot;</td><td>&quot;Cerrado&quot;</td><td>2022-12-31</td><td>2023-01-03</td><td>2023-01-06</td></tr><tr><td>&quot;WO0000004848638&quot;</td><td>&quot;VILLA SOL - 191059&quot;</td><td>&quot;Zona Centro&quot;</td><td>&quot;Cerrado&quot;</td><td>2022-12-31</td><td>2022-12-31</td><td>2023-01-03</td></tr></tbody></table></div>"
      ],
      "text/plain": [
       "shape: (9_206, 7)\n",
       "┌──────────────┬──────────────┬──────────────┬─────────┬──────────────┬──────────────┬─────────────┐\n",
       "│ TicketID     ┆ Ubicacion    ┆ Service Desk ┆ Estado  ┆ Fecha        ┆ Fecha        ┆ Fecha       │\n",
       "│ ---          ┆ ---          ┆ ---          ┆ ---     ┆ Creacion     ┆ Termino      ┆ Cierre      │\n",
       "│ str          ┆ str          ┆ str          ┆ str     ┆ ---          ┆ ---          ┆ ---         │\n",
       "│              ┆              ┆              ┆         ┆ date         ┆ date         ┆ date        │\n",
       "╞══════════════╪══════════════╪══════════════╪═════════╪══════════════╪══════════════╪═════════════╡\n",
       "│ WO0000004122 ┆ AREQUIPA -   ┆ Zona Norte   ┆ Cerrado ┆ 2022-06-01   ┆ 2022-06-14   ┆ 2022-06-14  │\n",
       "│ 687          ┆ 215000       ┆              ┆         ┆              ┆              ┆             │\n",
       "│ WO0000004122 ┆ METRO AV.    ┆ Zona Centro  ┆ Cerrado ┆ 2022-06-01   ┆ 2022-06-17   ┆ 2022-06-17  │\n",
       "│ 649          ┆ WIESSE -     ┆              ┆         ┆              ┆              ┆             │\n",
       "│              ┆ 191106       ┆              ┆         ┆              ┆              ┆             │\n",
       "│ WO0000004122 ┆ NICOLAS      ┆ Zona Centro  ┆ Cerrado ┆ 2022-06-01   ┆ 2022-06-08   ┆ 2022-06-08  │\n",
       "│ 502          ┆ AYLLON -     ┆              ┆         ┆              ┆              ┆             │\n",
       "│              ┆ 191027       ┆              ┆         ┆              ┆              ┆             │\n",
       "│ WO0000004122 ┆ JAUREGUI -   ┆ Zona Norte   ┆ Cerrado ┆ 2022-06-01   ┆ 2022-06-18   ┆ 2022-06-18  │\n",
       "│ 513          ┆ 405005       ┆              ┆         ┆              ┆              ┆             │\n",
       "│ WO0000004122 ┆ CANTO GRANDE ┆ Zona Centro  ┆ Cerrado ┆ 2022-06-01   ┆ 2022-06-08   ┆ 2022-06-08  │\n",
       "│ 741          ┆ - 191096     ┆              ┆         ┆              ┆              ┆             │\n",
       "│ …            ┆ …            ┆ …            ┆ …       ┆ …            ┆ …            ┆ …           │\n",
       "│ WO0000004848 ┆ ILO - 385000 ┆ Zona Norte   ┆ Cerrado ┆ 2022-12-31   ┆ 2023-01-09   ┆ 2023-01-12  │\n",
       "│ 619          ┆              ┆              ┆         ┆              ┆              ┆             │\n",
       "│ WO0000004848 ┆ QUILCA -     ┆ Zona Centro  ┆ Cerrado ┆ 2022-12-31   ┆ 2023-01-04   ┆ 2023-01-07  │\n",
       "│ 666          ┆ 191160       ┆              ┆         ┆              ┆              ┆             │\n",
       "│ WO0000004848 ┆ MERCADO DE   ┆ Zona Centro  ┆ Cerrado ┆ 2022-12-31   ┆ 2023-01-13   ┆ 2023-01-16  │\n",
       "│ 654          ┆ FRUTAS -     ┆              ┆         ┆              ┆              ┆             │\n",
       "│              ┆ 191064       ┆              ┆         ┆              ┆              ┆             │\n",
       "│ WO0000004849 ┆ VITARTE -    ┆ Zona Centro  ┆ Cerrado ┆ 2022-12-31   ┆ 2023-01-03   ┆ 2023-01-06  │\n",
       "│ 355          ┆ 191043       ┆              ┆         ┆              ┆              ┆             │\n",
       "│ WO0000004848 ┆ VILLA SOL -  ┆ Zona Centro  ┆ Cerrado ┆ 2022-12-31   ┆ 2022-12-31   ┆ 2023-01-03  │\n",
       "│ 638          ┆ 191059       ┆              ┆         ┆              ┆              ┆             │\n",
       "└──────────────┴──────────────┴──────────────┴─────────┴──────────────┴──────────────┴─────────────┘"
      ]
     },
     "execution_count": 4,
     "metadata": {},
     "output_type": "execute_result"
    }
   ],
   "source": [
    "## cambiando el tipo de dato de las columnas de fecha\n",
    "data_tickets_hist.cast({\"Fecha Creacion\":pl.Date}).cast({\"Fecha Termino\":pl.Date}).cast({\"Fecha Cierre\":pl.Date})"
   ]
  },
  {
   "cell_type": "code",
   "execution_count": 15,
   "metadata": {},
   "outputs": [
    {
     "data": {
      "text/html": [
       "<div><style>\n",
       ".dataframe > thead > tr,\n",
       ".dataframe > tbody > tr {\n",
       "  text-align: right;\n",
       "  white-space: pre-wrap;\n",
       "}\n",
       "</style>\n",
       "<small>shape: (9, 8)</small><table border=\"1\" class=\"dataframe\"><thead><tr><th>statistic</th><th>TicketID</th><th>Ubicacion</th><th>Service Desk</th><th>Estado</th><th>Fecha Creacion</th><th>Fecha Termino</th><th>Fecha Cierre</th></tr><tr><td>str</td><td>str</td><td>str</td><td>str</td><td>str</td><td>str</td><td>str</td><td>str</td></tr></thead><tbody><tr><td>&quot;count&quot;</td><td>&quot;9206&quot;</td><td>&quot;9206&quot;</td><td>&quot;9206&quot;</td><td>&quot;9206&quot;</td><td>&quot;9206&quot;</td><td>&quot;8868&quot;</td><td>&quot;7087&quot;</td></tr><tr><td>&quot;null_count&quot;</td><td>&quot;0&quot;</td><td>&quot;0&quot;</td><td>&quot;0&quot;</td><td>&quot;0&quot;</td><td>&quot;0&quot;</td><td>&quot;338&quot;</td><td>&quot;2119&quot;</td></tr><tr><td>&quot;mean&quot;</td><td>null</td><td>null</td><td>null</td><td>null</td><td>null</td><td>null</td><td>null</td></tr><tr><td>&quot;std&quot;</td><td>null</td><td>null</td><td>null</td><td>null</td><td>null</td><td>null</td><td>null</td></tr><tr><td>&quot;min&quot;</td><td>&quot;OT0000004849379&quot;</td><td>&quot;ABANCAY - 200000&quot;</td><td>&quot;Zona Centro&quot;</td><td>&quot;Cancelado&quot;</td><td>&quot;2022-06-01&quot;</td><td>&quot;2022-06-03&quot;</td><td>&quot;2022-06-03&quot;</td></tr><tr><td>&quot;25%&quot;</td><td>null</td><td>null</td><td>null</td><td>null</td><td>null</td><td>null</td><td>null</td></tr><tr><td>&quot;50%&quot;</td><td>null</td><td>null</td><td>null</td><td>null</td><td>null</td><td>null</td><td>null</td></tr><tr><td>&quot;75%&quot;</td><td>null</td><td>null</td><td>null</td><td>null</td><td>null</td><td>null</td><td>null</td></tr><tr><td>&quot;max&quot;</td><td>&quot;WO0000004849732&quot;</td><td>&quot;ZARATE - 191097&quot;</td><td>&quot;Zona Sur&quot;</td><td>&quot;Terminado&quot;</td><td>&quot;2022-12-31&quot;</td><td>&quot;2023-02-27&quot;</td><td>&quot;2023-02-28&quot;</td></tr></tbody></table></div>"
      ],
      "text/plain": [
       "shape: (9, 8)\n",
       "┌────────────┬────────────┬────────────┬───────────┬───────────┬───────────┬───────────┬───────────┐\n",
       "│ statistic  ┆ TicketID   ┆ Ubicacion  ┆ Service   ┆ Estado    ┆ Fecha     ┆ Fecha     ┆ Fecha     │\n",
       "│ ---        ┆ ---        ┆ ---        ┆ Desk      ┆ ---       ┆ Creacion  ┆ Termino   ┆ Cierre    │\n",
       "│ str        ┆ str        ┆ str        ┆ ---       ┆ str       ┆ ---       ┆ ---       ┆ ---       │\n",
       "│            ┆            ┆            ┆ str       ┆           ┆ str       ┆ str       ┆ str       │\n",
       "╞════════════╪════════════╪════════════╪═══════════╪═══════════╪═══════════╪═══════════╪═══════════╡\n",
       "│ count      ┆ 9206       ┆ 9206       ┆ 9206      ┆ 9206      ┆ 9206      ┆ 8868      ┆ 7087      │\n",
       "│ null_count ┆ 0          ┆ 0          ┆ 0         ┆ 0         ┆ 0         ┆ 338       ┆ 2119      │\n",
       "│ mean       ┆ null       ┆ null       ┆ null      ┆ null      ┆ null      ┆ null      ┆ null      │\n",
       "│ std        ┆ null       ┆ null       ┆ null      ┆ null      ┆ null      ┆ null      ┆ null      │\n",
       "│ min        ┆ OT00000048 ┆ ABANCAY -  ┆ Zona      ┆ Cancelado ┆ 2022-06-0 ┆ 2022-06-0 ┆ 2022-06-0 │\n",
       "│            ┆ 49379      ┆ 200000     ┆ Centro    ┆           ┆ 1         ┆ 3         ┆ 3         │\n",
       "│ 25%        ┆ null       ┆ null       ┆ null      ┆ null      ┆ null      ┆ null      ┆ null      │\n",
       "│ 50%        ┆ null       ┆ null       ┆ null      ┆ null      ┆ null      ┆ null      ┆ null      │\n",
       "│ 75%        ┆ null       ┆ null       ┆ null      ┆ null      ┆ null      ┆ null      ┆ null      │\n",
       "│ max        ┆ WO00000048 ┆ ZARATE -   ┆ Zona Sur  ┆ Terminado ┆ 2022-12-3 ┆ 2023-02-2 ┆ 2023-02-2 │\n",
       "│            ┆ 49732      ┆ 191097     ┆           ┆           ┆ 1         ┆ 7         ┆ 8         │\n",
       "└────────────┴────────────┴────────────┴───────────┴───────────┴───────────┴───────────┴───────────┘"
      ]
     },
     "execution_count": 15,
     "metadata": {},
     "output_type": "execute_result"
    }
   ],
   "source": [
    "data_tickets_hist.describe()"
   ]
  },
  {
   "cell_type": "code",
   "execution_count": 42,
   "metadata": {},
   "outputs": [
    {
     "data": {
      "text/plain": [
       "<bound method DataFrame.describe of shape: (13_050, 7)\n",
       "┌──────────────┬──────────────┬──────────────┬──────────┬──────────────┬─────────────┬─────────────┐\n",
       "│ TicketID     ┆ Ubicacion    ┆ Service Desk ┆ Estado   ┆ Fecha        ┆ Fecha       ┆ Fecha       │\n",
       "│ ---          ┆ ---          ┆ ---          ┆ ---      ┆ Creacion     ┆ Termino     ┆ Cierre      │\n",
       "│ str          ┆ str          ┆ str          ┆ str      ┆ ---          ┆ ---         ┆ ---         │\n",
       "│              ┆              ┆              ┆          ┆ str          ┆ str         ┆ str         │\n",
       "╞══════════════╪══════════════╪══════════════╪══════════╪══════════════╪═════════════╪═════════════╡\n",
       "│ WO0000004853 ┆ TUPAC AMARU  ┆ Zona Centro  ┆ Cerrado  ┆ 2023-01-02   ┆ 10/01/2023  ┆ 13/01/2023  │\n",
       "│ 311          ┆ - 191038     ┆              ┆          ┆              ┆             ┆             │\n",
       "│ WO0000004852 ┆ SAN JUAN DE  ┆ Zona Centro  ┆ Cerrado  ┆ 2023-01-02   ┆ 2/01/2023   ┆ 5/01/2023   │\n",
       "│ 942          ┆ LURIGANCHO - ┆              ┆          ┆              ┆             ┆             │\n",
       "│              ┆ 191017       ┆              ┆          ┆              ┆             ┆             │\n",
       "│ WO0000004852 ┆ MARIANO      ┆ Zona Norte   ┆ Cerrado  ┆ 2023-01-02   ┆ 6/01/2023   ┆ 9/01/2023   │\n",
       "│ 621          ┆ MELGAR -     ┆              ┆          ┆              ┆             ┆             │\n",
       "│              ┆ 215014       ┆              ┆          ┆              ┆             ┆             │\n",
       "│ SA0000004853 ┆ ANDAHUAYLAS  ┆ Zona Norte   ┆ Cerrado  ┆ 2023-01-02   ┆ 7/01/2023   ┆ 10/01/2023  │\n",
       "│ 328          ┆ - 205000     ┆              ┆          ┆              ┆             ┆             │\n",
       "│ SA0000004853 ┆ COLLIQUE -   ┆ Zona Centro  ┆ Cerrado  ┆ 2023-01-02   ┆ 4/01/2023   ┆ 7/01/2023   │\n",
       "│ 160          ┆ 191065       ┆              ┆          ┆              ┆             ┆             │\n",
       "│ …            ┆ …            ┆ …            ┆ …        ┆ …            ┆ …           ┆ …           │\n",
       "│ WO0000005737 ┆ CANTO GRANDE ┆ Zona Centro  ┆ En curso ┆ 2023-10-29   ┆ null        ┆ null        │\n",
       "│ 139          ┆ - 191096     ┆              ┆          ┆              ┆             ┆             │\n",
       "│ WO0000005736 ┆ NARANJAL -   ┆ Zona Centro  ┆ En curso ┆ 2023-10-29   ┆ null        ┆ null        │\n",
       "│ 853          ┆ 191141       ┆              ┆          ┆              ┆             ┆             │\n",
       "│ WO0000005736 ┆ NARANJAL -   ┆ Zona Centro  ┆ En curso ┆ 2023-10-29   ┆ null        ┆ null        │\n",
       "│ 847          ┆ 191141       ┆              ┆          ┆              ┆             ┆             │\n",
       "│ WO0000005736 ┆ NARANJAL -   ┆ Zona Centro  ┆ En curso ┆ 2023-10-29   ┆ null        ┆ null        │\n",
       "│ 845          ┆ 191141       ┆              ┆          ┆              ┆             ┆             │\n",
       "│ WO0000005736 ┆ TARAPACA -   ┆ Zona Centro  ┆ En curso ┆ 2023-10-29   ┆ null        ┆ null        │\n",
       "│ 387          ┆ 191030       ┆              ┆          ┆              ┆             ┆             │\n",
       "└──────────────┴──────────────┴──────────────┴──────────┴──────────────┴─────────────┴─────────────┘>"
      ]
     },
     "execution_count": 42,
     "metadata": {},
     "output_type": "execute_result"
    }
   ],
   "source": [
    "data_tickets_actual = pl.read_csv(\n",
    "    source = \"./Materiales/Tickets/Tickets Actual.csv\",\n",
    "    separator=\"|\",\n",
    "    columns=[\"Numero Ticket\",\"Ubicacion\",\"Service Desk\",\n",
    "             \"Estado\",\"Fecha Creacion\",\"Fecha Termino\",\n",
    "             \"Fecha Cierre\"],\n",
    "             has_header=True\n",
    ").rename({'Numero Ticket': 'TicketID'})\n",
    "\n",
    "data_tickets_actual.describe"
   ]
  },
  {
   "cell_type": "code",
   "execution_count": 43,
   "metadata": {},
   "outputs": [
    {
     "data": {
      "text/html": [
       "<div><style>\n",
       ".dataframe > thead > tr,\n",
       ".dataframe > tbody > tr {\n",
       "  text-align: right;\n",
       "  white-space: pre-wrap;\n",
       "}\n",
       "</style>\n",
       "<small>shape: (20, 7)</small><table border=\"1\" class=\"dataframe\"><thead><tr><th>TicketID</th><th>Ubicacion</th><th>Service Desk</th><th>Estado</th><th>Fecha Creacion</th><th>Fecha Termino</th><th>Fecha Cierre</th></tr><tr><td>str</td><td>str</td><td>str</td><td>str</td><td>date</td><td>date</td><td>date</td></tr></thead><tbody><tr><td>&quot;WO0000004853311&quot;</td><td>&quot;TUPAC AMARU - 191038&quot;</td><td>&quot;Zona Centro&quot;</td><td>&quot;Cerrado&quot;</td><td>2023-01-02</td><td>2023-01-10</td><td>2023-01-13</td></tr><tr><td>&quot;WO0000004852942&quot;</td><td>&quot;SAN JUAN DE LURIGANCHO - 191017&quot;</td><td>&quot;Zona Centro&quot;</td><td>&quot;Cerrado&quot;</td><td>2023-01-02</td><td>2023-01-02</td><td>2023-01-05</td></tr><tr><td>&quot;WO0000004852621&quot;</td><td>&quot;MARIANO MELGAR - 215014&quot;</td><td>&quot;Zona Norte&quot;</td><td>&quot;Cerrado&quot;</td><td>2023-01-02</td><td>2023-01-06</td><td>2023-01-09</td></tr><tr><td>&quot;SA0000004853328&quot;</td><td>&quot;ANDAHUAYLAS - 205000&quot;</td><td>&quot;Zona Norte&quot;</td><td>&quot;Cerrado&quot;</td><td>2023-01-02</td><td>2023-01-07</td><td>2023-01-10</td></tr><tr><td>&quot;SA0000004853160&quot;</td><td>&quot;COLLIQUE - 191065&quot;</td><td>&quot;Zona Centro&quot;</td><td>&quot;Cerrado&quot;</td><td>2023-01-02</td><td>2023-01-04</td><td>2023-01-07</td></tr><tr><td>&quot;SA0000004853158&quot;</td><td>&quot;COLLIQUE - 191065&quot;</td><td>&quot;Zona Centro&quot;</td><td>&quot;Cerrado&quot;</td><td>2023-01-02</td><td>2023-01-06</td><td>2023-01-09</td></tr><tr><td>&quot;SA0000004853157&quot;</td><td>&quot;COLLIQUE - 191065&quot;</td><td>&quot;Zona Centro&quot;</td><td>&quot;Cerrado&quot;</td><td>2023-01-02</td><td>2023-01-04</td><td>2023-01-07</td></tr><tr><td>&quot;SA0000004853156&quot;</td><td>&quot;COLLIQUE - 191065&quot;</td><td>&quot;Zona Centro&quot;</td><td>&quot;Cerrado&quot;</td><td>2023-01-02</td><td>2023-01-15</td><td>2023-01-18</td></tr><tr><td>&quot;WO0000004853328&quot;</td><td>&quot;ANDAHUAYLAS - 205000&quot;</td><td>&quot;Zona Norte&quot;</td><td>&quot;Cerrado&quot;</td><td>2023-01-02</td><td>2023-01-07</td><td>2023-01-10</td></tr><tr><td>&quot;WO0000004853160&quot;</td><td>&quot;COLLIQUE - 191065&quot;</td><td>&quot;Zona Centro&quot;</td><td>&quot;Cerrado&quot;</td><td>2023-01-02</td><td>2023-01-04</td><td>2023-01-07</td></tr><tr><td>&quot;WO0000004853158&quot;</td><td>&quot;COLLIQUE - 191065&quot;</td><td>&quot;Zona Centro&quot;</td><td>&quot;Cerrado&quot;</td><td>2023-01-02</td><td>2023-01-06</td><td>2023-01-09</td></tr><tr><td>&quot;WO0000004853157&quot;</td><td>&quot;COLLIQUE - 191065&quot;</td><td>&quot;Zona Centro&quot;</td><td>&quot;Cerrado&quot;</td><td>2023-01-02</td><td>2023-01-04</td><td>2023-01-07</td></tr><tr><td>&quot;WO0000004853156&quot;</td><td>&quot;COLLIQUE - 191065&quot;</td><td>&quot;Zona Centro&quot;</td><td>&quot;Cerrado&quot;</td><td>2023-01-02</td><td>2023-01-15</td><td>2023-01-18</td></tr><tr><td>&quot;WO0000004854678&quot;</td><td>&quot;MEGA PLAZA - 191010&quot;</td><td>&quot;Zona Centro&quot;</td><td>&quot;Cerrado&quot;</td><td>2023-01-02</td><td>2023-01-14</td><td>2023-01-17</td></tr><tr><td>&quot;WO0000004853613&quot;</td><td>&quot;PROCERES - 191120&quot;</td><td>&quot;Zona Centro&quot;</td><td>&quot;Cerrado&quot;</td><td>2023-01-02</td><td>2023-01-07</td><td>2023-01-10</td></tr><tr><td>&quot;WO0000004853171&quot;</td><td>&quot;PLAZA UNION - 191062&quot;</td><td>&quot;Zona Centro&quot;</td><td>&quot;Cerrado&quot;</td><td>2023-01-02</td><td>2023-01-06</td><td>2023-01-09</td></tr><tr><td>&quot;WO0000004853139&quot;</td><td>&quot;METRO AV. WIESSE - 191106&quot;</td><td>&quot;Zona Centro&quot;</td><td>&quot;Cerrado&quot;</td><td>2023-01-02</td><td>2023-01-11</td><td>2023-01-14</td></tr><tr><td>&quot;WO0000004852175&quot;</td><td>&quot;LAS LOMAS - 191055&quot;</td><td>&quot;Zona Centro&quot;</td><td>&quot;Cerrado&quot;</td><td>2023-01-02</td><td>2023-01-11</td><td>2023-01-14</td></tr><tr><td>&quot;WO0000004851712&quot;</td><td>&quot;IZAGUIRRE - 191154&quot;</td><td>&quot;Zona Centro&quot;</td><td>&quot;Cerrado&quot;</td><td>2023-01-02</td><td>2023-01-04</td><td>2023-01-07</td></tr><tr><td>&quot;WO0000004854930&quot;</td><td>&quot;BELAUNDE - 191018&quot;</td><td>&quot;Zona Centro&quot;</td><td>&quot;Cerrado&quot;</td><td>2023-01-02</td><td>2023-01-13</td><td>2023-01-16</td></tr></tbody></table></div>"
      ],
      "text/plain": [
       "shape: (20, 7)\n",
       "┌──────────────┬──────────────┬──────────────┬─────────┬──────────────┬──────────────┬─────────────┐\n",
       "│ TicketID     ┆ Ubicacion    ┆ Service Desk ┆ Estado  ┆ Fecha        ┆ Fecha        ┆ Fecha       │\n",
       "│ ---          ┆ ---          ┆ ---          ┆ ---     ┆ Creacion     ┆ Termino      ┆ Cierre      │\n",
       "│ str          ┆ str          ┆ str          ┆ str     ┆ ---          ┆ ---          ┆ ---         │\n",
       "│              ┆              ┆              ┆         ┆ date         ┆ date         ┆ date        │\n",
       "╞══════════════╪══════════════╪══════════════╪═════════╪══════════════╪══════════════╪═════════════╡\n",
       "│ WO0000004853 ┆ TUPAC AMARU  ┆ Zona Centro  ┆ Cerrado ┆ 2023-01-02   ┆ 2023-01-10   ┆ 2023-01-13  │\n",
       "│ 311          ┆ - 191038     ┆              ┆         ┆              ┆              ┆             │\n",
       "│ WO0000004852 ┆ SAN JUAN DE  ┆ Zona Centro  ┆ Cerrado ┆ 2023-01-02   ┆ 2023-01-02   ┆ 2023-01-05  │\n",
       "│ 942          ┆ LURIGANCHO - ┆              ┆         ┆              ┆              ┆             │\n",
       "│              ┆ 191017       ┆              ┆         ┆              ┆              ┆             │\n",
       "│ WO0000004852 ┆ MARIANO      ┆ Zona Norte   ┆ Cerrado ┆ 2023-01-02   ┆ 2023-01-06   ┆ 2023-01-09  │\n",
       "│ 621          ┆ MELGAR -     ┆              ┆         ┆              ┆              ┆             │\n",
       "│              ┆ 215014       ┆              ┆         ┆              ┆              ┆             │\n",
       "│ SA0000004853 ┆ ANDAHUAYLAS  ┆ Zona Norte   ┆ Cerrado ┆ 2023-01-02   ┆ 2023-01-07   ┆ 2023-01-10  │\n",
       "│ 328          ┆ - 205000     ┆              ┆         ┆              ┆              ┆             │\n",
       "│ SA0000004853 ┆ COLLIQUE -   ┆ Zona Centro  ┆ Cerrado ┆ 2023-01-02   ┆ 2023-01-04   ┆ 2023-01-07  │\n",
       "│ 160          ┆ 191065       ┆              ┆         ┆              ┆              ┆             │\n",
       "│ …            ┆ …            ┆ …            ┆ …       ┆ …            ┆ …            ┆ …           │\n",
       "│ WO0000004853 ┆ PLAZA UNION  ┆ Zona Centro  ┆ Cerrado ┆ 2023-01-02   ┆ 2023-01-06   ┆ 2023-01-09  │\n",
       "│ 171          ┆ - 191062     ┆              ┆         ┆              ┆              ┆             │\n",
       "│ WO0000004853 ┆ METRO AV.    ┆ Zona Centro  ┆ Cerrado ┆ 2023-01-02   ┆ 2023-01-11   ┆ 2023-01-14  │\n",
       "│ 139          ┆ WIESSE -     ┆              ┆         ┆              ┆              ┆             │\n",
       "│              ┆ 191106       ┆              ┆         ┆              ┆              ┆             │\n",
       "│ WO0000004852 ┆ LAS LOMAS -  ┆ Zona Centro  ┆ Cerrado ┆ 2023-01-02   ┆ 2023-01-11   ┆ 2023-01-14  │\n",
       "│ 175          ┆ 191055       ┆              ┆         ┆              ┆              ┆             │\n",
       "│ WO0000004851 ┆ IZAGUIRRE -  ┆ Zona Centro  ┆ Cerrado ┆ 2023-01-02   ┆ 2023-01-04   ┆ 2023-01-07  │\n",
       "│ 712          ┆ 191154       ┆              ┆         ┆              ┆              ┆             │\n",
       "│ WO0000004854 ┆ BELAUNDE -   ┆ Zona Centro  ┆ Cerrado ┆ 2023-01-02   ┆ 2023-01-13   ┆ 2023-01-16  │\n",
       "│ 930          ┆ 191018       ┆              ┆         ┆              ┆              ┆             │\n",
       "└──────────────┴──────────────┴──────────────┴─────────┴──────────────┴──────────────┴─────────────┘"
      ]
     },
     "execution_count": 43,
     "metadata": {},
     "output_type": "execute_result"
    }
   ],
   "source": [
    "data_tickets_actual = data_tickets_actual.select(\n",
    "    'TicketID',\n",
    "    'Ubicacion',\n",
    "    'Service Desk',\n",
    "    'Estado',\n",
    "    pl.col('Fecha Creacion').cast(pl.Date),\n",
    "    pl.col(\"Fecha Termino\").str.to_date(format=\"%d/%m/%Y\"),\n",
    "    pl.col(\"Fecha Cierre\").str.to_date(format=\"%d/%m/%Y\")\n",
    ")\n",
    "\n",
    "data_tickets_actual.head(20)"
   ]
  },
  {
   "cell_type": "code",
   "execution_count": 45,
   "metadata": {},
   "outputs": [
    {
     "data": {
      "text/plain": [
       "(13022, 7)"
      ]
     },
     "execution_count": 45,
     "metadata": {},
     "output_type": "execute_result"
    }
   ],
   "source": [
    "data_tickets_actual = data_tickets_actual.filter(\n",
    "\n",
    "    pl.col(\"TicketID\").str.starts_with(\"WO\")\n",
    ")\n",
    "data_tickets_actual.shape\n",
    "##data_tickets_actual.head()"
   ]
  }
 ],
 "metadata": {
  "kernelspec": {
   "display_name": "amb_entrega",
   "language": "python",
   "name": "python3"
  },
  "language_info": {
   "codemirror_mode": {
    "name": "ipython",
    "version": 3
   },
   "file_extension": ".py",
   "mimetype": "text/x-python",
   "name": "python",
   "nbconvert_exporter": "python",
   "pygments_lexer": "ipython3",
   "version": "3.11.8"
  }
 },
 "nbformat": 4,
 "nbformat_minor": 2
}
